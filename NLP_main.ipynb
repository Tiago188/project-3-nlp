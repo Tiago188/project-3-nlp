{
 "cells": [
  {
   "cell_type": "code",
   "execution_count": 1,
   "metadata": {},
   "outputs": [],
   "source": [
    "# %pip install pandas numpy re warnings"
   ]
  },
  {
   "cell_type": "code",
   "execution_count": 2,
   "metadata": {},
   "outputs": [],
   "source": [
    "#%pip install nltk"
   ]
  },
  {
   "cell_type": "code",
   "execution_count": 3,
   "metadata": {},
   "outputs": [],
   "source": [
    "# \n",
    "# %pip install scikit-learn"
   ]
  },
  {
   "cell_type": "code",
   "execution_count": 4,
   "metadata": {},
   "outputs": [],
   "source": [
    "# %pip install plotly"
   ]
  },
  {
   "cell_type": "code",
   "execution_count": 5,
   "metadata": {},
   "outputs": [],
   "source": [
    "#%pip install kneed"
   ]
  },
  {
   "cell_type": "code",
   "execution_count": 6,
   "metadata": {
    "colab": {
     "base_uri": "https://localhost:8080/"
    },
    "executionInfo": {
     "elapsed": 3090,
     "status": "ok",
     "timestamp": 1737043596670,
     "user": {
      "displayName": "Tiago Santos",
      "userId": "01739492997383215152"
     },
     "user_tz": 0
    },
    "id": "VRIM9b6MElD5",
    "outputId": "ffe3fa16-8c09-4803-b0a4-9e71b65eacaf"
   },
   "outputs": [],
   "source": [
    "# 📚 Basic Libraries\n",
    "\n",
    "import pandas as pd\n",
    "import numpy as np\n",
    "import os\n",
    "import re # Regular Expression\n",
    "import warnings\n",
    "\n",
    "# 📝 Text Processing\n",
    "import nltk\n",
    "from nltk.stem import WordNetLemmatizer # to lemmatize the words #\n",
    "from nltk.tokenize import word_tokenize\n",
    "from nltk.tokenize import sent_tokenize # sentence tokenizer\n",
    "from nltk.corpus import wordnet # to get the wordnet pos tags\n",
    "from nltk.corpus import stopwords # to remove the stopwords\n",
    "from sklearn.feature_extraction.text import CountVectorizer # to create a bag of words\n",
    "\n",
    "# Machine Learning\n",
    "from sklearn.cluster import KMeans\n",
    "import plotly.graph_objects as go\n",
    "from sklearn.metrics import silhouette_score\n",
    "\n",
    "# Ensure kneed is installed\n",
    "from kneed import KneeLocator"
   ]
  },
  {
   "cell_type": "markdown",
   "metadata": {
    "id": "OnHTm9l2ItAW"
   },
   "source": [
    "***1***. **Load and Inspect the Data**"
   ]
  },
  {
   "cell_type": "code",
   "execution_count": 7,
   "metadata": {},
   "outputs": [
    {
     "name": "stdout",
     "output_type": "stream",
     "text": [
      "Training Data:\n",
      "   0  \\\n",
      "0  0   \n",
      "1  0   \n",
      "\n",
      "  donald trump sends out embarrassing new year‚s eve message; this is disturbing  \n",
      "0  drunk bragging trump staffer started russian c...                              \n",
      "1  sheriff david clarke becomes an internet joke ...                              \n",
      "\n",
      "Testing Data:\n",
      "   2 copycat muslim terrorist arrested with assault weapons\n",
      "0  2  wow! chicago protester caught on camera admits...    \n",
      "1  2   germany's fdp look to fill schaeuble's big shoes    \n"
     ]
    }
   ],
   "source": [
    "\n",
    "# Define the folder path\n",
    "folder_path = './dataset'\n",
    "\n",
    "# Define file paths\n",
    "training_file = os.path.join(folder_path, 'training_data.csv')\n",
    "testing_file = os.path.join(folder_path, 'testing_data.csv')\n",
    "\n",
    "# Load the CSV files\n",
    "train_data = pd.read_csv(training_file, sep=\"\\t\")\n",
    "test_data = pd.read_csv(testing_file, sep=\"\\t\")\n",
    "\n",
    "# Inspect the loaded data\n",
    "print(\"Training Data:\")\n",
    "print(train_data.head(2))\n",
    "\n",
    "print(\"\\nTesting Data:\")\n",
    "print(test_data.head(2))\n"
   ]
  },
  {
   "cell_type": "code",
   "execution_count": 8,
   "metadata": {
    "colab": {
     "base_uri": "https://localhost:8080/"
    },
    "executionInfo": {
     "elapsed": 1552,
     "status": "ok",
     "timestamp": 1737043598213,
     "user": {
      "displayName": "Tiago Santos",
      "userId": "01739492997383215152"
     },
     "user_tz": 0
    },
    "id": "gF9NrzArC9ex",
    "outputId": "66e7ece3-eaae-41fa-b18c-2ab9bbe4fe15"
   },
   "outputs": [],
   "source": [
    "#from google.colab import drive\n",
    "#drive.mount('/content/drive')"
   ]
  },
  {
   "cell_type": "code",
   "execution_count": 9,
   "metadata": {
    "executionInfo": {
     "elapsed": 6,
     "status": "ok",
     "timestamp": 1737043598213,
     "user": {
      "displayName": "Tiago Santos",
      "userId": "01739492997383215152"
     },
     "user_tz": 0
    },
    "id": "9jKl5a6rDL_x"
   },
   "outputs": [],
   "source": [
    "#\n",
    "#folder_path  = \"/content/drive/MyDrive/project-3-nlp/dataset/training_data.csv\""
   ]
  },
  {
   "cell_type": "code",
   "execution_count": 10,
   "metadata": {
    "executionInfo": {
     "elapsed": 361,
     "status": "ok",
     "timestamp": 1737043598569,
     "user": {
      "displayName": "Tiago Santos",
      "userId": "01739492997383215152"
     },
     "user_tz": 0
    },
    "id": "2E8hCRDGDq8S"
   },
   "outputs": [],
   "source": [
    "data = train_data\n"
   ]
  },
  {
   "cell_type": "code",
   "execution_count": 11,
   "metadata": {
    "executionInfo": {
     "elapsed": 4,
     "status": "ok",
     "timestamp": 1737043598569,
     "user": {
      "displayName": "Tiago Santos",
      "userId": "01739492997383215152"
     },
     "user_tz": 0
    },
    "id": "TMaexyk7JAbZ"
   },
   "outputs": [],
   "source": [
    "# 🔧 Make your functions:\n",
    "# Save this file as my_functions.py\n",
    "# Import your functions in your notebook\n",
    "# from my_functions import *\n",
    "def clean_data(data):\n",
    "    \"\"\"\n",
    "    Standarize and returns snake_case columns\n",
    "    \"\"\"\n",
    "    data.columns = [column.lower().replace(' ', '_') for column in data.columns]\n",
    "\n",
    "\n",
    "def map_pos_tag(word):\n",
    "    \"\"\"\n",
    "    Map POS tag to first character lemmatize() accepts.\n",
    "    \"\"\"\n",
    "    tag = nltk.pos_tag([word])[0][1][0].upper() # get the first character of the POS tag\n",
    "    tag_dict = { # dictionary to map POS tags\n",
    "        \"J\": wordnet.ADJ,\n",
    "        \"N\": wordnet.NOUN,\n",
    "        \"V\": wordnet.VERB,\n",
    "        \"R\": wordnet.ADV\n",
    "    }\n",
    "    return tag_dict.get(tag, wordnet.NOUN) # return the value of the key or the default value\n",
    "\n",
    "# ⚙️ Settings\n",
    "pd.set_option('display.max_columns', None) # display all columns\n",
    "warnings.filterwarnings('ignore') # ignore warnings"
   ]
  },
  {
   "cell_type": "code",
   "execution_count": 12,
   "metadata": {
    "executionInfo": {
     "elapsed": 3,
     "status": "ok",
     "timestamp": 1737043598569,
     "user": {
      "displayName": "Tiago Santos",
      "userId": "01739492997383215152"
     },
     "user_tz": 0
    },
    "id": "vSe1_QV8KmU6"
   },
   "outputs": [],
   "source": [
    "df = data.copy()\n"
   ]
  },
  {
   "cell_type": "code",
   "execution_count": 13,
   "metadata": {
    "executionInfo": {
     "elapsed": 3,
     "status": "ok",
     "timestamp": 1737043598569,
     "user": {
      "displayName": "Tiago Santos",
      "userId": "01739492997383215152"
     },
     "user_tz": 0
    },
    "id": "tGVzSBrWbCPZ"
   },
   "outputs": [],
   "source": [
    "clean_data(df)"
   ]
  },
  {
   "cell_type": "code",
   "execution_count": 14,
   "metadata": {
    "colab": {
     "base_uri": "https://localhost:8080/",
     "height": 206
    },
    "executionInfo": {
     "elapsed": 265,
     "status": "ok",
     "timestamp": 1737043598831,
     "user": {
      "displayName": "Tiago Santos",
      "userId": "01739492997383215152"
     },
     "user_tz": 0
    },
    "id": "NgdSn3P5E1zm",
    "outputId": "327f0e58-359e-4627-dadc-b1a7ca998acb"
   },
   "outputs": [
    {
     "data": {
      "text/html": [
       "<div>\n",
       "<style scoped>\n",
       "    .dataframe tbody tr th:only-of-type {\n",
       "        vertical-align: middle;\n",
       "    }\n",
       "\n",
       "    .dataframe tbody tr th {\n",
       "        vertical-align: top;\n",
       "    }\n",
       "\n",
       "    .dataframe thead th {\n",
       "        text-align: right;\n",
       "    }\n",
       "</style>\n",
       "<table border=\"1\" class=\"dataframe\">\n",
       "  <thead>\n",
       "    <tr style=\"text-align: right;\">\n",
       "      <th></th>\n",
       "      <th>0</th>\n",
       "      <th>donald_trump_sends_out_embarrassing_new_year‚s_eve_message;_this_is_disturbing</th>\n",
       "    </tr>\n",
       "  </thead>\n",
       "  <tbody>\n",
       "    <tr>\n",
       "      <th>0</th>\n",
       "      <td>0</td>\n",
       "      <td>drunk bragging trump staffer started russian c...</td>\n",
       "    </tr>\n",
       "    <tr>\n",
       "      <th>1</th>\n",
       "      <td>0</td>\n",
       "      <td>sheriff david clarke becomes an internet joke ...</td>\n",
       "    </tr>\n",
       "    <tr>\n",
       "      <th>2</th>\n",
       "      <td>0</td>\n",
       "      <td>trump is so obsessed he even has obama‚s name ...</td>\n",
       "    </tr>\n",
       "    <tr>\n",
       "      <th>3</th>\n",
       "      <td>0</td>\n",
       "      <td>pope francis just called out donald trump duri...</td>\n",
       "    </tr>\n",
       "    <tr>\n",
       "      <th>4</th>\n",
       "      <td>0</td>\n",
       "      <td>racist alabama cops brutalize black boy while ...</td>\n",
       "    </tr>\n",
       "  </tbody>\n",
       "</table>\n",
       "</div>"
      ],
      "text/plain": [
       "   0  \\\n",
       "0  0   \n",
       "1  0   \n",
       "2  0   \n",
       "3  0   \n",
       "4  0   \n",
       "\n",
       "  donald_trump_sends_out_embarrassing_new_year‚s_eve_message;_this_is_disturbing  \n",
       "0  drunk bragging trump staffer started russian c...                              \n",
       "1  sheriff david clarke becomes an internet joke ...                              \n",
       "2  trump is so obsessed he even has obama‚s name ...                              \n",
       "3  pope francis just called out donald trump duri...                              \n",
       "4  racist alabama cops brutalize black boy while ...                              "
      ]
     },
     "execution_count": 14,
     "metadata": {},
     "output_type": "execute_result"
    }
   ],
   "source": [
    "df.head()"
   ]
  },
  {
   "cell_type": "code",
   "execution_count": 15,
   "metadata": {
    "colab": {
     "base_uri": "https://localhost:8080/",
     "height": 424
    },
    "executionInfo": {
     "elapsed": 13,
     "status": "ok",
     "timestamp": 1737043598832,
     "user": {
      "displayName": "Tiago Santos",
      "userId": "01739492997383215152"
     },
     "user_tz": 0
    },
    "id": "OdxZaVSLNliy",
    "outputId": "3a896044-4bd1-42a7-ab7d-c6298a19607c"
   },
   "outputs": [
    {
     "data": {
      "text/html": [
       "<div>\n",
       "<style scoped>\n",
       "    .dataframe tbody tr th:only-of-type {\n",
       "        vertical-align: middle;\n",
       "    }\n",
       "\n",
       "    .dataframe tbody tr th {\n",
       "        vertical-align: top;\n",
       "    }\n",
       "\n",
       "    .dataframe thead th {\n",
       "        text-align: right;\n",
       "    }\n",
       "</style>\n",
       "<table border=\"1\" class=\"dataframe\">\n",
       "  <thead>\n",
       "    <tr style=\"text-align: right;\">\n",
       "      <th></th>\n",
       "      <th>classification</th>\n",
       "      <th>news</th>\n",
       "    </tr>\n",
       "  </thead>\n",
       "  <tbody>\n",
       "    <tr>\n",
       "      <th>0</th>\n",
       "      <td>0</td>\n",
       "      <td>drunk bragging trump staffer started russian c...</td>\n",
       "    </tr>\n",
       "    <tr>\n",
       "      <th>1</th>\n",
       "      <td>0</td>\n",
       "      <td>sheriff david clarke becomes an internet joke ...</td>\n",
       "    </tr>\n",
       "    <tr>\n",
       "      <th>2</th>\n",
       "      <td>0</td>\n",
       "      <td>trump is so obsessed he even has obama‚s name ...</td>\n",
       "    </tr>\n",
       "    <tr>\n",
       "      <th>3</th>\n",
       "      <td>0</td>\n",
       "      <td>pope francis just called out donald trump duri...</td>\n",
       "    </tr>\n",
       "    <tr>\n",
       "      <th>4</th>\n",
       "      <td>0</td>\n",
       "      <td>racist alabama cops brutalize black boy while ...</td>\n",
       "    </tr>\n",
       "    <tr>\n",
       "      <th>...</th>\n",
       "      <td>...</td>\n",
       "      <td>...</td>\n",
       "    </tr>\n",
       "    <tr>\n",
       "      <th>34146</th>\n",
       "      <td>1</td>\n",
       "      <td>tears in rain as thais gather for late king's ...</td>\n",
       "    </tr>\n",
       "    <tr>\n",
       "      <th>34147</th>\n",
       "      <td>1</td>\n",
       "      <td>pyongyang university needs non-u.s. teachers a...</td>\n",
       "    </tr>\n",
       "    <tr>\n",
       "      <th>34148</th>\n",
       "      <td>1</td>\n",
       "      <td>philippine president duterte to visit japan ah...</td>\n",
       "    </tr>\n",
       "    <tr>\n",
       "      <th>34149</th>\n",
       "      <td>1</td>\n",
       "      <td>japan's abe may have won election\\tbut many do...</td>\n",
       "    </tr>\n",
       "    <tr>\n",
       "      <th>34150</th>\n",
       "      <td>1</td>\n",
       "      <td>demoralized and divided: inside catalonia's po...</td>\n",
       "    </tr>\n",
       "  </tbody>\n",
       "</table>\n",
       "<p>34151 rows × 2 columns</p>\n",
       "</div>"
      ],
      "text/plain": [
       "       classification                                               news\n",
       "0                   0  drunk bragging trump staffer started russian c...\n",
       "1                   0  sheriff david clarke becomes an internet joke ...\n",
       "2                   0  trump is so obsessed he even has obama‚s name ...\n",
       "3                   0  pope francis just called out donald trump duri...\n",
       "4                   0  racist alabama cops brutalize black boy while ...\n",
       "...               ...                                                ...\n",
       "34146               1  tears in rain as thais gather for late king's ...\n",
       "34147               1  pyongyang university needs non-u.s. teachers a...\n",
       "34148               1  philippine president duterte to visit japan ah...\n",
       "34149               1  japan's abe may have won election\\tbut many do...\n",
       "34150               1  demoralized and divided: inside catalonia's po...\n",
       "\n",
       "[34151 rows x 2 columns]"
      ]
     },
     "execution_count": 15,
     "metadata": {},
     "output_type": "execute_result"
    }
   ],
   "source": [
    "df.columns = ['classification', 'news'] # classifictaion of the columns\n",
    "df"
   ]
  },
  {
   "cell_type": "markdown",
   "metadata": {
    "id": "f5M65F-i3mN0"
   },
   "source": [
    "***2***. **EDA**"
   ]
  },
  {
   "cell_type": "code",
   "execution_count": 16,
   "metadata": {
    "colab": {
     "base_uri": "https://localhost:8080/",
     "height": 147
    },
    "executionInfo": {
     "elapsed": 11,
     "status": "ok",
     "timestamp": 1737043598832,
     "user": {
      "displayName": "Tiago Santos",
      "userId": "01739492997383215152"
     },
     "user_tz": 0
    },
    "id": "IQ2TG9sON0fD",
    "outputId": "cb472468-beef-4fc4-95c1-694da851dd9f"
   },
   "outputs": [
    {
     "data": {
      "text/plain": [
       "classification     int64\n",
       "news              object\n",
       "dtype: object"
      ]
     },
     "execution_count": 16,
     "metadata": {},
     "output_type": "execute_result"
    }
   ],
   "source": [
    "df.dtypes"
   ]
  },
  {
   "cell_type": "code",
   "execution_count": 17,
   "metadata": {
    "colab": {
     "base_uri": "https://localhost:8080/",
     "height": 178
    },
    "executionInfo": {
     "elapsed": 26,
     "status": "ok",
     "timestamp": 1737043599096,
     "user": {
      "displayName": "Tiago Santos",
      "userId": "01739492997383215152"
     },
     "user_tz": 0
    },
    "id": "x5GcGruFQ6xE",
    "outputId": "34c20544-0d38-487f-fa01-49c1863f4dd9"
   },
   "outputs": [
    {
     "data": {
      "text/plain": [
       "classification\n",
       "0    17571\n",
       "1    16580\n",
       "Name: count, dtype: int64"
      ]
     },
     "execution_count": 17,
     "metadata": {},
     "output_type": "execute_result"
    }
   ],
   "source": [
    "df_class = df.classification.value_counts()\n",
    "df_class"
   ]
  },
  {
   "cell_type": "code",
   "execution_count": 88,
   "metadata": {
    "colab": {
     "base_uri": "https://localhost:8080/",
     "height": 178
    },
    "executionInfo": {
     "elapsed": 25,
     "status": "ok",
     "timestamp": 1737043599097,
     "user": {
      "displayName": "Tiago Santos",
      "userId": "01739492997383215152"
     },
     "user_tz": 0
    },
    "id": "sUK-CwvfOElY",
    "outputId": "69ee3a87-378d-482a-a4d6-4d2ac5dfb4d7"
   },
   "outputs": [
    {
     "data": {
      "text/plain": [
       "classification\n",
       "0    0.514509\n",
       "1    0.485491\n",
       "Name: count, dtype: float64"
      ]
     },
     "execution_count": 88,
     "metadata": {},
     "output_type": "execute_result"
    }
   ],
   "source": [
    "total_count_class = len(df['classification'])\n",
    "\n",
    "frequency_class = df_class / total_count_class\n",
    "\n",
    "frequency_class"
   ]
  },
  {
   "cell_type": "code",
   "execution_count": 19,
   "metadata": {
    "colab": {
     "base_uri": "https://localhost:8080/",
     "height": 147
    },
    "executionInfo": {
     "elapsed": 24,
     "status": "ok",
     "timestamp": 1737043599097,
     "user": {
      "displayName": "Tiago Santos",
      "userId": "01739492997383215152"
     },
     "user_tz": 0
    },
    "id": "aR6osh1jg9Nf",
    "outputId": "21a3f9e0-361a-42ca-b293-01ee76c7d505"
   },
   "outputs": [
    {
     "data": {
      "text/plain": [
       "classification    0\n",
       "news              0\n",
       "dtype: int64"
      ]
     },
     "execution_count": 19,
     "metadata": {},
     "output_type": "execute_result"
    }
   ],
   "source": [
    "df.isna().sum()"
   ]
  },
  {
   "cell_type": "code",
   "execution_count": 20,
   "metadata": {
    "colab": {
     "base_uri": "https://localhost:8080/",
     "height": 398
    },
    "executionInfo": {
     "elapsed": 23,
     "status": "ok",
     "timestamp": 1737043599097,
     "user": {
      "displayName": "Tiago Santos",
      "userId": "01739492997383215152"
     },
     "user_tz": 0
    },
    "id": "9rzO8uSXR19t",
    "outputId": "9bad1a4b-a240-4ca3-9c9d-e5b6f6f6221d"
   },
   "outputs": [
    {
     "data": {
      "text/plain": [
       "7703     fox news shows real reaction from demoralized ...\n",
       "23500    new u.s. u.n. envoy warns allies: back us or w...\n",
       "25138    north carolina republican office painted with ...\n",
       "13189    why hillary loves the idea of barack obama as ...\n",
       "5280     father of purple heart-winning muslim soldier ...\n",
       "4216                             trump terrified of losing\n",
       "33093    purge of saudi princes\\tbusinessmen widens\\ttr...\n",
       "21432    the firing line: ouster of fbi's comey tests n...\n",
       "162      this 2016 hannity tweet is now like a knife in...\n",
       "12965    why trump supporters are laughing after wikile...\n",
       "Name: news, dtype: object"
      ]
     },
     "execution_count": 20,
     "metadata": {},
     "output_type": "execute_result"
    }
   ],
   "source": [
    "df['news'].sample(10)"
   ]
  },
  {
   "cell_type": "code",
   "execution_count": 21,
   "metadata": {
    "colab": {
     "base_uri": "https://localhost:8080/",
     "height": 36
    },
    "executionInfo": {
     "elapsed": 22,
     "status": "ok",
     "timestamp": 1737043599097,
     "user": {
      "displayName": "Tiago Santos",
      "userId": "01739492997383215152"
     },
     "user_tz": 0
    },
    "id": "FS927o5IZq9H",
    "outputId": "5dc83fef-3c02-43ca-a791-5e9c5dd5a934"
   },
   "outputs": [
    {
     "data": {
      "text/plain": [
       "'sheriff david clarke becomes an internet joke for threatening to poke people ‚in the eye‚'"
      ]
     },
     "execution_count": 21,
     "metadata": {},
     "output_type": "execute_result"
    }
   ],
   "source": [
    "example1 = df['news'][1]\n",
    "example1"
   ]
  },
  {
   "cell_type": "code",
   "execution_count": 22,
   "metadata": {
    "colab": {
     "base_uri": "https://localhost:8080/",
     "height": 36
    },
    "executionInfo": {
     "elapsed": 22,
     "status": "ok",
     "timestamp": 1737043599098,
     "user": {
      "displayName": "Tiago Santos",
      "userId": "01739492997383215152"
     },
     "user_tz": 0
    },
    "id": "MNuqSfoDZq5t",
    "outputId": "857c4cb7-abf1-4363-db14-c9d071e592ae"
   },
   "outputs": [
    {
     "data": {
      "text/plain": [
       "'trump is so obsessed he even has obama‚s name coded into his website (images)'"
      ]
     },
     "execution_count": 22,
     "metadata": {},
     "output_type": "execute_result"
    }
   ],
   "source": [
    "exemple2 = df['news'][2]\n",
    "exemple2"
   ]
  },
  {
   "cell_type": "code",
   "execution_count": 23,
   "metadata": {
    "colab": {
     "base_uri": "https://localhost:8080/",
     "height": 36
    },
    "executionInfo": {
     "elapsed": 21,
     "status": "ok",
     "timestamp": 1737043599098,
     "user": {
      "displayName": "Tiago Santos",
      "userId": "01739492997383215152"
     },
     "user_tz": 0
    },
    "id": "R48Km1jFZqyc",
    "outputId": "a3e1e1be-31b0-463d-8e4d-4230a6c068f0"
   },
   "outputs": [
    {
     "data": {
      "text/plain": [
       "'racist alabama cops brutalize black boy while he is in handcuffs (graphic images)'"
      ]
     },
     "execution_count": 23,
     "metadata": {},
     "output_type": "execute_result"
    }
   ],
   "source": [
    "example4 = df['news'][4]\n",
    "example4"
   ]
  },
  {
   "cell_type": "code",
   "execution_count": 24,
   "metadata": {
    "colab": {
     "base_uri": "https://localhost:8080/",
     "height": 36
    },
    "executionInfo": {
     "elapsed": 369,
     "status": "ok",
     "timestamp": 1737043599447,
     "user": {
      "displayName": "Tiago Santos",
      "userId": "01739492997383215152"
     },
     "user_tz": 0
    },
    "id": "D498WlayZqn4",
    "outputId": "51c23b3a-96f9-4e4e-de5c-89f4ed0da79a"
   },
   "outputs": [
    {
     "data": {
      "text/plain": [
       "'brand-new pro-trump ad features so much a** kissing it will make you sick'"
      ]
     },
     "execution_count": 24,
     "metadata": {},
     "output_type": "execute_result"
    }
   ],
   "source": [
    "example = df['news'][8]\n",
    "example"
   ]
  },
  {
   "cell_type": "code",
   "execution_count": 25,
   "metadata": {
    "colab": {
     "base_uri": "https://localhost:8080/",
     "height": 36
    },
    "executionInfo": {
     "elapsed": 25,
     "status": "ok",
     "timestamp": 1737043599447,
     "user": {
      "displayName": "Tiago Santos",
      "userId": "01739492997383215152"
     },
     "user_tz": 0
    },
    "id": "ILaBwX-DYr_R",
    "outputId": "21df434e-d9b5-4ed5-f6d6-d3a8d3443358"
   },
   "outputs": [
    {
     "data": {
      "text/plain": [
       "'lindsey graham trashes media for portraying trump as ‚kooky‚ forgets his own words\"'"
      ]
     },
     "execution_count": 25,
     "metadata": {},
     "output_type": "execute_result"
    }
   ],
   "source": [
    "example = df['news'][12]\n",
    "example"
   ]
  },
  {
   "cell_type": "code",
   "execution_count": 26,
   "metadata": {
    "colab": {
     "base_uri": "https://localhost:8080/",
     "height": 36
    },
    "executionInfo": {
     "elapsed": 24,
     "status": "ok",
     "timestamp": 1737043599447,
     "user": {
      "displayName": "Tiago Santos",
      "userId": "01739492997383215152"
     },
     "user_tz": 0
    },
    "id": "E4bIoM8Jc7V6",
    "outputId": "35ad697d-6b19-4d3f-955c-6a47dede2f48"
   },
   "outputs": [
    {
     "data": {
      "text/plain": [
       "'ky gop state rep. commits suicide over allegations he molested a teen girl (details)'"
      ]
     },
     "execution_count": 26,
     "metadata": {},
     "output_type": "execute_result"
    }
   ],
   "source": [
    "example11 = df['news'][20]\n",
    "example11"
   ]
  },
  {
   "cell_type": "code",
   "execution_count": 27,
   "metadata": {
    "colab": {
     "base_uri": "https://localhost:8080/",
     "height": 36
    },
    "executionInfo": {
     "elapsed": 23,
     "status": "ok",
     "timestamp": 1737043599447,
     "user": {
      "displayName": "Tiago Santos",
      "userId": "01739492997383215152"
     },
     "user_tz": 0
    },
    "id": "UVd9r8pMZqiX",
    "outputId": "65f3ae8d-eaf5-459d-8e40-317a1c1cc48a"
   },
   "outputs": [
    {
     "data": {
      "text/plain": [
       "'snl hilariously mocks accused child molester roy moore for losing al senate race (video)'"
      ]
     },
     "execution_count": 27,
     "metadata": {},
     "output_type": "execute_result"
    }
   ],
   "source": [
    "example = df['news'][17]\n",
    "example"
   ]
  },
  {
   "cell_type": "code",
   "execution_count": 28,
   "metadata": {
    "colab": {
     "base_uri": "https://localhost:8080/",
     "height": 36
    },
    "executionInfo": {
     "elapsed": 22,
     "status": "ok",
     "timestamp": 1737043599447,
     "user": {
      "displayName": "Tiago Santos",
      "userId": "01739492997383215152"
     },
     "user_tz": 0
    },
    "id": "MyZ6lTSWZq18",
    "outputId": "fc930960-8919-45b2-a79f-1d546e429b65"
   },
   "outputs": [
    {
     "data": {
      "text/plain": [
       "'meghan mccain tweets the most amazing response to doug jones‚ win in deep-red alabama'"
      ]
     },
     "execution_count": 28,
     "metadata": {},
     "output_type": "execute_result"
    }
   ],
   "source": [
    "example3 = df['news'][21]\n",
    "example3"
   ]
  },
  {
   "cell_type": "code",
   "execution_count": 29,
   "metadata": {
    "colab": {
     "base_uri": "https://localhost:8080/",
     "height": 36
    },
    "executionInfo": {
     "elapsed": 22,
     "status": "ok",
     "timestamp": 1737043599448,
     "user": {
      "displayName": "Tiago Santos",
      "userId": "01739492997383215152"
     },
     "user_tz": 0
    },
    "id": "wr48DFLcZqvJ",
    "outputId": "216c53a4-39b3-4c81-c44d-5352f5ff8aa3"
   },
   "outputs": [
    {
     "data": {
      "text/plain": [
       "'cnn calls it: a democrat will represent alabama in the senate for the first time in 25 years'"
      ]
     },
     "execution_count": 29,
     "metadata": {},
     "output_type": "execute_result"
    }
   ],
   "source": [
    "example5 = df['news'][22]\n",
    "example5"
   ]
  },
  {
   "cell_type": "code",
   "execution_count": 30,
   "metadata": {
    "colab": {
     "base_uri": "https://localhost:8080/",
     "height": 36
    },
    "executionInfo": {
     "elapsed": 22,
     "status": "ok",
     "timestamp": 1737043599448,
     "user": {
      "displayName": "Tiago Santos",
      "userId": "01739492997383215152"
     },
     "user_tz": 0
    },
    "id": "KC1tWjB9dTGp",
    "outputId": "8bd4846a-f264-463d-8d01-5c4e8319ac20"
   },
   "outputs": [
    {
     "data": {
      "text/plain": [
       "'tone deaf trump: congrats rep. scalise on losing weight after you almost died'"
      ]
     },
     "execution_count": 30,
     "metadata": {},
     "output_type": "execute_result"
    }
   ],
   "source": [
    "example4 = df['news'][14]\n",
    "example4"
   ]
  },
  {
   "cell_type": "code",
   "execution_count": 31,
   "metadata": {
    "colab": {
     "base_uri": "https://localhost:8080/",
     "height": 36
    },
    "executionInfo": {
     "elapsed": 21,
     "status": "ok",
     "timestamp": 1737043599448,
     "user": {
      "displayName": "Tiago Santos",
      "userId": "01739492997383215152"
     },
     "user_tz": 0
    },
    "id": "Fs8N82vIZqrv",
    "outputId": "562c5509-1b5e-4371-fb4c-5ada4763c583"
   },
   "outputs": [
    {
     "data": {
      "text/plain": [
       "'mueller spokesman just f-cked up donald trump‚s christmas'"
      ]
     },
     "execution_count": 31,
     "metadata": {},
     "output_type": "execute_result"
    }
   ],
   "source": [
    "example = df['news'][16]\n",
    "example"
   ]
  },
  {
   "cell_type": "code",
   "execution_count": 32,
   "metadata": {
    "colab": {
     "base_uri": "https://localhost:8080/",
     "height": 36
    },
    "executionInfo": {
     "elapsed": 20,
     "status": "ok",
     "timestamp": 1737043599448,
     "user": {
      "displayName": "Tiago Santos",
      "userId": "01739492997383215152"
     },
     "user_tz": 0
    },
    "id": "Os-TRBgRZqY4",
    "outputId": "1a0e7057-3732-49b6-d97d-4dac596b6d50"
   },
   "outputs": [
    {
     "data": {
      "text/plain": [
       "'republican senator gets dragged for going after robert mueller'"
      ]
     },
     "execution_count": 32,
     "metadata": {},
     "output_type": "execute_result"
    }
   ],
   "source": [
    "exemple10 = df['news'][18]\n",
    "exemple10"
   ]
  },
  {
   "cell_type": "code",
   "execution_count": 33,
   "metadata": {
    "colab": {
     "base_uri": "https://localhost:8080/",
     "height": 36
    },
    "executionInfo": {
     "elapsed": 20,
     "status": "ok",
     "timestamp": 1737043599448,
     "user": {
      "displayName": "Tiago Santos",
      "userId": "01739492997383215152"
     },
     "user_tz": 0
    },
    "id": "AwJlGedtZqII",
    "outputId": "dc3bc56d-f742-4d56-8631-3fe9016f2805"
   },
   "outputs": [
    {
     "data": {
      "text/plain": [
       "'in a heartless rebuke to victims'"
      ]
     },
     "execution_count": 33,
     "metadata": {},
     "output_type": "execute_result"
    }
   ],
   "source": [
    "exemple11 = df['news'][19]\n",
    "exemple11"
   ]
  },
  {
   "cell_type": "markdown",
   "metadata": {
    "id": "p8ngkkLtmHJX"
   },
   "source": [
    "Extra cleaning"
   ]
  },
  {
   "cell_type": "code",
   "execution_count": 34,
   "metadata": {
    "executionInfo": {
     "elapsed": 652,
     "status": "ok",
     "timestamp": 1737043600081,
     "user": {
      "displayName": "Tiago Santos",
      "userId": "01739492997383215152"
     },
     "user_tz": 0
    },
    "id": "MwKywyOaiT36"
   },
   "outputs": [],
   "source": [
    "# probably i will joint to myfuntions\n",
    "# listo of bad words\n",
    "bad_words = [\"fcked\", \"sht\", \"fck\"]\n",
    "\n",
    "# Function to clean text\n",
    "def clean_text(text):\n",
    "    text = text.lower()  # Convert to lowercase\n",
    "    text = re.sub(r'http\\S+', '', text)  # Remove URLs\n",
    "    text = re.sub(r'\\([^\\)]+\\)', '', text)  # Remove text inside parentheses\n",
    "    text = re.sub(r'[^a-zA-Z\\s]', '', text)  # Remove non-alphabetic characters\n",
    "    text = re.sub(r'\\s+', ' ', text).strip()  # Remove extra whitespace\n",
    "    for bad_word in bad_words:\n",
    "        text = text.replace(bad_word, '')  # Remove bad words\n",
    "    return text\n",
    "    return text\n",
    "\n",
    "# Apply the cleaning function\n",
    "df['news'] = df['news'].apply(clean_text)"
   ]
  },
  {
   "cell_type": "code",
   "execution_count": 35,
   "metadata": {
    "colab": {
     "base_uri": "https://localhost:8080/",
     "height": 36
    },
    "executionInfo": {
     "elapsed": 12,
     "status": "ok",
     "timestamp": 1737043600081,
     "user": {
      "displayName": "Tiago Santos",
      "userId": "01739492997383215152"
     },
     "user_tz": 0
    },
    "id": "mMcbnaAFj1hP",
    "outputId": "bb728bb8-6945-4f78-af6b-53aa7859b141"
   },
   "outputs": [
    {
     "data": {
      "text/plain": [
       "'trump sends crazytime tweet to the wrong account after losing his  over world leaders remarks'"
      ]
     },
     "execution_count": 35,
     "metadata": {},
     "output_type": "execute_result"
    }
   ],
   "source": [
    "example21 = df['news'][50]\n",
    "example21"
   ]
  },
  {
   "cell_type": "code",
   "execution_count": 36,
   "metadata": {
    "colab": {
     "base_uri": "https://localhost:8080/",
     "height": 36
    },
    "executionInfo": {
     "elapsed": 11,
     "status": "ok",
     "timestamp": 1737043600081,
     "user": {
      "displayName": "Tiago Santos",
      "userId": "01739492997383215152"
     },
     "user_tz": 0
    },
    "id": "rWv0rFjPkEh_",
    "outputId": "6a41b62e-0720-437b-a0eb-b80a197a0b8c"
   },
   "outputs": [
    {
     "data": {
      "text/plain": [
       "'just back from a golfing vacay'"
      ]
     },
     "execution_count": 36,
     "metadata": {},
     "output_type": "execute_result"
    }
   ],
   "source": [
    "example22 = df['news'][62]\n",
    "example22"
   ]
  },
  {
   "cell_type": "code",
   "execution_count": 37,
   "metadata": {
    "colab": {
     "base_uri": "https://localhost:8080/",
     "height": 36
    },
    "executionInfo": {
     "elapsed": 311,
     "status": "ok",
     "timestamp": 1737043600383,
     "user": {
      "displayName": "Tiago Santos",
      "userId": "01739492997383215152"
     },
     "user_tz": 0
    },
    "id": "w51aeQkVkBoW",
    "outputId": "a624c7fe-a8a5-48fe-a2f9-c32094479392"
   },
   "outputs": [
    {
     "data": {
      "text/plain": [
       "'fox news bans gene simmons for life for harassing staff off camera'"
      ]
     },
     "execution_count": 37,
     "metadata": {},
     "output_type": "execute_result"
    }
   ],
   "source": [
    "example23 = df['news'][74]\n",
    "example23"
   ]
  },
  {
   "cell_type": "code",
   "execution_count": 38,
   "metadata": {
    "colab": {
     "base_uri": "https://localhost:8080/",
     "height": 36
    },
    "executionInfo": {
     "elapsed": 15,
     "status": "ok",
     "timestamp": 1737043600384,
     "user": {
      "displayName": "Tiago Santos",
      "userId": "01739492997383215152"
     },
     "user_tz": 0
    },
    "id": "a99o5jGBkEfb",
    "outputId": "8fc7e3c9-a6d7-4d52-8cdf-3f6879d18c1d"
   },
   "outputs": [
    {
     "data": {
      "text/plain": [
       "'newsweek just made their best cover ever and people are freaking out'"
      ]
     },
     "execution_count": 38,
     "metadata": {},
     "output_type": "execute_result"
    }
   ],
   "source": [
    "example24 = df['news'][108]\n",
    "example24"
   ]
  },
  {
   "cell_type": "code",
   "execution_count": 39,
   "metadata": {
    "colab": {
     "base_uri": "https://localhost:8080/",
     "height": 36
    },
    "executionInfo": {
     "elapsed": 13,
     "status": "ok",
     "timestamp": 1737043600384,
     "user": {
      "displayName": "Tiago Santos",
      "userId": "01739492997383215152"
     },
     "user_tz": 0
    },
    "id": "yKdbT8UAkEcD",
    "outputId": "58f4f554-9700-4396-c356-8e5b5c1ae2ca"
   },
   "outputs": [
    {
     "data": {
      "text/plain": [
       "'trump tells japanese diplomats he never knew there were so many countries in the world'"
      ]
     },
     "execution_count": 39,
     "metadata": {},
     "output_type": "execute_result"
    }
   ],
   "source": [
    "example25 = df['news'][126]\n",
    "example25"
   ]
  },
  {
   "cell_type": "code",
   "execution_count": 40,
   "metadata": {
    "colab": {
     "base_uri": "https://localhost:8080/",
     "height": 677
    },
    "executionInfo": {
     "elapsed": 12,
     "status": "ok",
     "timestamp": 1737043600384,
     "user": {
      "displayName": "Tiago Santos",
      "userId": "01739492997383215152"
     },
     "user_tz": 0
    },
    "id": "vCA6-4u3mbpT",
    "outputId": "006c0d7e-9950-4170-f22c-8d118f3b46d8"
   },
   "outputs": [
    {
     "data": {
      "text/html": [
       "<div>\n",
       "<style scoped>\n",
       "    .dataframe tbody tr th:only-of-type {\n",
       "        vertical-align: middle;\n",
       "    }\n",
       "\n",
       "    .dataframe tbody tr th {\n",
       "        vertical-align: top;\n",
       "    }\n",
       "\n",
       "    .dataframe thead th {\n",
       "        text-align: right;\n",
       "    }\n",
       "</style>\n",
       "<table border=\"1\" class=\"dataframe\">\n",
       "  <thead>\n",
       "    <tr style=\"text-align: right;\">\n",
       "      <th></th>\n",
       "      <th>classification</th>\n",
       "      <th>news</th>\n",
       "    </tr>\n",
       "  </thead>\n",
       "  <tbody>\n",
       "    <tr>\n",
       "      <th>11184</th>\n",
       "      <td>0</td>\n",
       "      <td>lawyer for illegal alien rapists hysteria over...</td>\n",
       "    </tr>\n",
       "    <tr>\n",
       "      <th>14536</th>\n",
       "      <td>0</td>\n",
       "      <td>epic backfire the left makes video warning fol...</td>\n",
       "    </tr>\n",
       "    <tr>\n",
       "      <th>23943</th>\n",
       "      <td>1</td>\n",
       "      <td>att chief executive trump meet amid planned ti...</td>\n",
       "    </tr>\n",
       "    <tr>\n",
       "      <th>32777</th>\n",
       "      <td>1</td>\n",
       "      <td>tillerson speaks to saudi counterpart about ar...</td>\n",
       "    </tr>\n",
       "    <tr>\n",
       "      <th>29978</th>\n",
       "      <td>1</td>\n",
       "      <td>italy national election likely set for march p...</td>\n",
       "    </tr>\n",
       "    <tr>\n",
       "      <th>29326</th>\n",
       "      <td>1</td>\n",
       "      <td>un mediator de mistura to attend syria talks o...</td>\n",
       "    </tr>\n",
       "    <tr>\n",
       "      <th>22764</th>\n",
       "      <td>1</td>\n",
       "      <td>trump trade office takes aggressive view of wt...</td>\n",
       "    </tr>\n",
       "    <tr>\n",
       "      <th>16649</th>\n",
       "      <td>0</td>\n",
       "      <td>obama suggests gun confiscation is solutioncit...</td>\n",
       "    </tr>\n",
       "    <tr>\n",
       "      <th>28363</th>\n",
       "      <td>1</td>\n",
       "      <td>obama to make historic trip to cuba in coming ...</td>\n",
       "    </tr>\n",
       "    <tr>\n",
       "      <th>32901</th>\n",
       "      <td>1</td>\n",
       "      <td>senior thai royal official dismissed in latest...</td>\n",
       "    </tr>\n",
       "    <tr>\n",
       "      <th>31760</th>\n",
       "      <td>1</td>\n",
       "      <td>us sanctions chinese and north korean organiza...</td>\n",
       "    </tr>\n",
       "    <tr>\n",
       "      <th>17600</th>\n",
       "      <td>1</td>\n",
       "      <td>senate leader mcconnell sees a more collegial</td>\n",
       "    </tr>\n",
       "    <tr>\n",
       "      <th>30012</th>\n",
       "      <td>1</td>\n",
       "      <td>window falls from us marines helicopter onto s...</td>\n",
       "    </tr>\n",
       "    <tr>\n",
       "      <th>24789</th>\n",
       "      <td>1</td>\n",
       "      <td>chinas interference in hong kong reaching alar...</td>\n",
       "    </tr>\n",
       "    <tr>\n",
       "      <th>17989</th>\n",
       "      <td>1</td>\n",
       "      <td>us attorney general sessions evasive on russia...</td>\n",
       "    </tr>\n",
       "    <tr>\n",
       "      <th>28712</th>\n",
       "      <td>1</td>\n",
       "      <td>us appeals court declines to block obama carbo...</td>\n",
       "    </tr>\n",
       "    <tr>\n",
       "      <th>23853</th>\n",
       "      <td>1</td>\n",
       "      <td>putin says he doubts trump met with moscow pro...</td>\n",
       "    </tr>\n",
       "    <tr>\n",
       "      <th>11072</th>\n",
       "      <td>0</td>\n",
       "      <td>sec of state rex tillerson steps are under way...</td>\n",
       "    </tr>\n",
       "    <tr>\n",
       "      <th>20061</th>\n",
       "      <td>1</td>\n",
       "      <td>senate aims for a skinny obamacare repeal as o...</td>\n",
       "    </tr>\n",
       "    <tr>\n",
       "      <th>24554</th>\n",
       "      <td>1</td>\n",
       "      <td>senior senators want to amend saudi september law</td>\n",
       "    </tr>\n",
       "  </tbody>\n",
       "</table>\n",
       "</div>"
      ],
      "text/plain": [
       "       classification                                               news\n",
       "11184               0  lawyer for illegal alien rapists hysteria over...\n",
       "14536               0  epic backfire the left makes video warning fol...\n",
       "23943               1  att chief executive trump meet amid planned ti...\n",
       "32777               1  tillerson speaks to saudi counterpart about ar...\n",
       "29978               1  italy national election likely set for march p...\n",
       "29326               1  un mediator de mistura to attend syria talks o...\n",
       "22764               1  trump trade office takes aggressive view of wt...\n",
       "16649               0  obama suggests gun confiscation is solutioncit...\n",
       "28363               1  obama to make historic trip to cuba in coming ...\n",
       "32901               1  senior thai royal official dismissed in latest...\n",
       "31760               1  us sanctions chinese and north korean organiza...\n",
       "17600               1      senate leader mcconnell sees a more collegial\n",
       "30012               1  window falls from us marines helicopter onto s...\n",
       "24789               1  chinas interference in hong kong reaching alar...\n",
       "17989               1  us attorney general sessions evasive on russia...\n",
       "28712               1  us appeals court declines to block obama carbo...\n",
       "23853               1  putin says he doubts trump met with moscow pro...\n",
       "11072               0  sec of state rex tillerson steps are under way...\n",
       "20061               1  senate aims for a skinny obamacare repeal as o...\n",
       "24554               1  senior senators want to amend saudi september law"
      ]
     },
     "execution_count": 40,
     "metadata": {},
     "output_type": "execute_result"
    }
   ],
   "source": [
    "df.sample(20) # found some bad names at the first time, however they are incomplete"
   ]
  },
  {
   "cell_type": "markdown",
   "metadata": {
    "id": "lAms-mbn3-EJ"
   },
   "source": [
    "***3***. **Text processing**"
   ]
  },
  {
   "cell_type": "markdown",
   "metadata": {
    "id": "JiND6eDIl8J-"
   },
   "source": [
    "Tokenization"
   ]
  },
  {
   "cell_type": "code",
   "execution_count": 41,
   "metadata": {
    "colab": {
     "base_uri": "https://localhost:8080/"
    },
    "executionInfo": {
     "elapsed": 11,
     "status": "ok",
     "timestamp": 1737043600384,
     "user": {
      "displayName": "Tiago Santos",
      "userId": "01739492997383215152"
     },
     "user_tz": 0
    },
    "id": "48-PO0AmkEJX",
    "outputId": "7a52a5c0-6fb3-4f3b-ae8d-c4df2c47b194"
   },
   "outputs": [
    {
     "name": "stderr",
     "output_type": "stream",
     "text": [
      "[nltk_data] Downloading package punkt_tab to\n",
      "[nltk_data]     C:\\Users\\ggsan\\AppData\\Roaming\\nltk_data...\n",
      "[nltk_data]   Package punkt_tab is already up-to-date!\n"
     ]
    },
    {
     "data": {
      "text/plain": [
       "True"
      ]
     },
     "execution_count": 41,
     "metadata": {},
     "output_type": "execute_result"
    }
   ],
   "source": [
    "nltk.download('punkt_tab') #tokenizer package however in googlecolab is \"punkt_tab\" instead of \"punkt\""
   ]
  },
  {
   "cell_type": "code",
   "execution_count": 42,
   "metadata": {
    "colab": {
     "base_uri": "https://localhost:8080/"
    },
    "executionInfo": {
     "elapsed": 9,
     "status": "ok",
     "timestamp": 1737043600385,
     "user": {
      "displayName": "Tiago Santos",
      "userId": "01739492997383215152"
     },
     "user_tz": 0
    },
    "id": "9QATpKZrkEDY",
    "outputId": "319cfe31-bc93-428c-eb05-8b6013649de1"
   },
   "outputs": [
    {
     "data": {
      "text/plain": [
       "['mueller spokesman just f-cked up donald trump‚s christmas']"
      ]
     },
     "execution_count": 42,
     "metadata": {},
     "output_type": "execute_result"
    }
   ],
   "source": [
    "example.split(\",\")"
   ]
  },
  {
   "cell_type": "code",
   "execution_count": 43,
   "metadata": {
    "colab": {
     "base_uri": "https://localhost:8080/"
    },
    "executionInfo": {
     "elapsed": 8,
     "status": "ok",
     "timestamp": 1737043600385,
     "user": {
      "displayName": "Tiago Santos",
      "userId": "01739492997383215152"
     },
     "user_tz": 0
    },
    "id": "Uhfc7nEGsu1O",
    "outputId": "6e3f1059-831c-471d-c90e-1edd72d120df"
   },
   "outputs": [
    {
     "data": {
      "text/plain": [
       "['mueller',\n",
       " 'spokesman',\n",
       " 'just',\n",
       " 'f-cked',\n",
       " 'up',\n",
       " 'donald',\n",
       " 'trump‚s',\n",
       " 'christmas']"
      ]
     },
     "execution_count": 43,
     "metadata": {},
     "output_type": "execute_result"
    }
   ],
   "source": [
    "tokens = nltk.word_tokenize(example)\n",
    "tokens[:10]"
   ]
  },
  {
   "cell_type": "code",
   "execution_count": 44,
   "metadata": {
    "colab": {
     "base_uri": "https://localhost:8080/"
    },
    "executionInfo": {
     "elapsed": 258,
     "status": "ok",
     "timestamp": 1737043600637,
     "user": {
      "displayName": "Tiago Santos",
      "userId": "01739492997383215152"
     },
     "user_tz": 0
    },
    "id": "qapo_oJmsuwA",
    "outputId": "af9287e8-7457-4f20-a5aa-cadff5d2747b"
   },
   "outputs": [
    {
     "data": {
      "text/plain": [
       "8"
      ]
     },
     "execution_count": 44,
     "metadata": {},
     "output_type": "execute_result"
    }
   ],
   "source": [
    "len(tokens)"
   ]
  },
  {
   "cell_type": "markdown",
   "metadata": {
    "id": "IEvuPbne5NNi"
   },
   "source": [
    "**Tokenization** of the Data"
   ]
  },
  {
   "cell_type": "code",
   "execution_count": 45,
   "metadata": {
    "colab": {
     "base_uri": "https://localhost:8080/",
     "height": 206
    },
    "executionInfo": {
     "elapsed": 8886,
     "status": "ok",
     "timestamp": 1737043609521,
     "user": {
      "displayName": "Tiago Santos",
      "userId": "01739492997383215152"
     },
     "user_tz": 0
    },
    "id": "COkg0OwssupK",
    "outputId": "06bd3182-23e5-4316-bd07-1ff513ce86a4"
   },
   "outputs": [
    {
     "data": {
      "text/html": [
       "<div>\n",
       "<style scoped>\n",
       "    .dataframe tbody tr th:only-of-type {\n",
       "        vertical-align: middle;\n",
       "    }\n",
       "\n",
       "    .dataframe tbody tr th {\n",
       "        vertical-align: top;\n",
       "    }\n",
       "\n",
       "    .dataframe thead th {\n",
       "        text-align: right;\n",
       "    }\n",
       "</style>\n",
       "<table border=\"1\" class=\"dataframe\">\n",
       "  <thead>\n",
       "    <tr style=\"text-align: right;\">\n",
       "      <th></th>\n",
       "      <th>classification</th>\n",
       "      <th>news</th>\n",
       "      <th>tokens</th>\n",
       "    </tr>\n",
       "  </thead>\n",
       "  <tbody>\n",
       "    <tr>\n",
       "      <th>0</th>\n",
       "      <td>0</td>\n",
       "      <td>drunk bragging trump staffer started russian c...</td>\n",
       "      <td>[drunk, bragging, trump, staffer, started, rus...</td>\n",
       "    </tr>\n",
       "    <tr>\n",
       "      <th>1</th>\n",
       "      <td>0</td>\n",
       "      <td>sheriff david clarke becomes an internet joke ...</td>\n",
       "      <td>[sheriff, david, clarke, becomes, an, internet...</td>\n",
       "    </tr>\n",
       "    <tr>\n",
       "      <th>2</th>\n",
       "      <td>0</td>\n",
       "      <td>trump is so obsessed he even has obamas name c...</td>\n",
       "      <td>[trump, is, so, obsessed, he, even, has, obama...</td>\n",
       "    </tr>\n",
       "    <tr>\n",
       "      <th>3</th>\n",
       "      <td>0</td>\n",
       "      <td>pope francis just called out donald trump duri...</td>\n",
       "      <td>[pope, francis, just, called, out, donald, tru...</td>\n",
       "    </tr>\n",
       "    <tr>\n",
       "      <th>4</th>\n",
       "      <td>0</td>\n",
       "      <td>racist alabama cops brutalize black boy while ...</td>\n",
       "      <td>[racist, alabama, cops, brutalize, black, boy,...</td>\n",
       "    </tr>\n",
       "  </tbody>\n",
       "</table>\n",
       "</div>"
      ],
      "text/plain": [
       "   classification                                               news  \\\n",
       "0               0  drunk bragging trump staffer started russian c...   \n",
       "1               0  sheriff david clarke becomes an internet joke ...   \n",
       "2               0  trump is so obsessed he even has obamas name c...   \n",
       "3               0  pope francis just called out donald trump duri...   \n",
       "4               0  racist alabama cops brutalize black boy while ...   \n",
       "\n",
       "                                              tokens  \n",
       "0  [drunk, bragging, trump, staffer, started, rus...  \n",
       "1  [sheriff, david, clarke, becomes, an, internet...  \n",
       "2  [trump, is, so, obsessed, he, even, has, obama...  \n",
       "3  [pope, francis, just, called, out, donald, tru...  \n",
       "4  [racist, alabama, cops, brutalize, black, boy,...  "
      ]
     },
     "execution_count": 45,
     "metadata": {},
     "output_type": "execute_result"
    }
   ],
   "source": [
    "df['tokens'] = df['news'].apply(nltk.word_tokenize)\n",
    "df.head()"
   ]
  },
  {
   "cell_type": "code",
   "execution_count": 46,
   "metadata": {
    "colab": {
     "base_uri": "https://localhost:8080/"
    },
    "executionInfo": {
     "elapsed": 11,
     "status": "ok",
     "timestamp": 1737043609521,
     "user": {
      "displayName": "Tiago Santos",
      "userId": "01739492997383215152"
     },
     "user_tz": 0
    },
    "id": "tEvDCx9Vsug2",
    "outputId": "1f2010bf-2747-4960-df92-d81d494b8b31"
   },
   "outputs": [
    {
     "data": {
      "text/plain": [
       "Index(['classification', 'news', 'tokens'], dtype='object')"
      ]
     },
     "execution_count": 46,
     "metadata": {},
     "output_type": "execute_result"
    }
   ],
   "source": [
    "df.columns"
   ]
  },
  {
   "cell_type": "markdown",
   "metadata": {
    "id": "LsHxwDy7rirN"
   },
   "source": [
    "NLTK Download packages"
   ]
  },
  {
   "cell_type": "code",
   "execution_count": 47,
   "metadata": {
    "colab": {
     "base_uri": "https://localhost:8080/"
    },
    "executionInfo": {
     "elapsed": 8,
     "status": "ok",
     "timestamp": 1737043609521,
     "user": {
      "displayName": "Tiago Santos",
      "userId": "01739492997383215152"
     },
     "user_tz": 0
    },
    "id": "1mPwai4brf3P",
    "outputId": "e055aa1f-b041-4757-f00b-b4efc5c1c81a"
   },
   "outputs": [
    {
     "name": "stderr",
     "output_type": "stream",
     "text": [
      "[nltk_data] Downloading package averaged_perceptron_tagger_eng to\n",
      "[nltk_data]     C:\\Users\\ggsan\\AppData\\Roaming\\nltk_data...\n",
      "[nltk_data]   Package averaged_perceptron_tagger_eng is already up-to-\n",
      "[nltk_data]       date!\n"
     ]
    },
    {
     "data": {
      "text/plain": [
       "True"
      ]
     },
     "execution_count": 47,
     "metadata": {},
     "output_type": "execute_result"
    }
   ],
   "source": [
    "import nltk\n",
    "nltk.download('averaged_perceptron_tagger_eng') # This is a resource to determine the part-of-speech of a word."
   ]
  },
  {
   "cell_type": "code",
   "execution_count": 48,
   "metadata": {
    "executionInfo": {
     "elapsed": 41828,
     "status": "ok",
     "timestamp": 1737043651345,
     "user": {
      "displayName": "Tiago Santos",
      "userId": "01739492997383215152"
     },
     "user_tz": 0
    },
    "id": "iXpJ48KSrzyz"
   },
   "outputs": [],
   "source": [
    "df['pos_tags'] = df['tokens'].apply(lambda tokens: nltk.pos_tag(tokens, lang='eng'))"
   ]
  },
  {
   "cell_type": "code",
   "execution_count": 49,
   "metadata": {
    "colab": {
     "base_uri": "https://localhost:8080/",
     "height": 206
    },
    "executionInfo": {
     "elapsed": 8,
     "status": "ok",
     "timestamp": 1737043651346,
     "user": {
      "displayName": "Tiago Santos",
      "userId": "01739492997383215152"
     },
     "user_tz": 0
    },
    "id": "oiDKwfLCrzu6",
    "outputId": "3a8c0581-2eee-4e90-bb62-7b58245ad331"
   },
   "outputs": [
    {
     "data": {
      "text/html": [
       "<div>\n",
       "<style scoped>\n",
       "    .dataframe tbody tr th:only-of-type {\n",
       "        vertical-align: middle;\n",
       "    }\n",
       "\n",
       "    .dataframe tbody tr th {\n",
       "        vertical-align: top;\n",
       "    }\n",
       "\n",
       "    .dataframe thead th {\n",
       "        text-align: right;\n",
       "    }\n",
       "</style>\n",
       "<table border=\"1\" class=\"dataframe\">\n",
       "  <thead>\n",
       "    <tr style=\"text-align: right;\">\n",
       "      <th></th>\n",
       "      <th>classification</th>\n",
       "      <th>news</th>\n",
       "      <th>tokens</th>\n",
       "      <th>pos_tags</th>\n",
       "    </tr>\n",
       "  </thead>\n",
       "  <tbody>\n",
       "    <tr>\n",
       "      <th>21050</th>\n",
       "      <td>1</td>\n",
       "      <td>vatican would see us paris deal exit as slap i...</td>\n",
       "      <td>[vatican, would, see, us, paris, deal, exit, a...</td>\n",
       "      <td>[(vatican, JJ), (would, MD), (see, VB), (us, P...</td>\n",
       "    </tr>\n",
       "    <tr>\n",
       "      <th>22340</th>\n",
       "      <td>1</td>\n",
       "      <td>key democrat cites profound doubt about intell...</td>\n",
       "      <td>[key, democrat, cites, profound, doubt, about,...</td>\n",
       "      <td>[(key, JJ), (democrat, NN), (cites, NNS), (pro...</td>\n",
       "    </tr>\n",
       "    <tr>\n",
       "      <th>2075</th>\n",
       "      <td>0</td>\n",
       "      <td>ivanka trump just actually became our new firs...</td>\n",
       "      <td>[ivanka, trump, just, actually, became, our, n...</td>\n",
       "      <td>[(ivanka, JJ), (trump, NN), (just, RB), (actua...</td>\n",
       "    </tr>\n",
       "    <tr>\n",
       "      <th>27408</th>\n",
       "      <td>1</td>\n",
       "      <td>us capitol replacing flag display over confede...</td>\n",
       "      <td>[us, capitol, replacing, flag, display, over, ...</td>\n",
       "      <td>[(us, PRP), (capitol, VBP), (replacing, VBG), ...</td>\n",
       "    </tr>\n",
       "    <tr>\n",
       "      <th>30584</th>\n",
       "      <td>1</td>\n",
       "      <td>spd leader promises to push germany to embrace...</td>\n",
       "      <td>[spd, leader, promises, to, push, germany, to,...</td>\n",
       "      <td>[(spd, JJ), (leader, NN), (promises, NNS), (to...</td>\n",
       "    </tr>\n",
       "  </tbody>\n",
       "</table>\n",
       "</div>"
      ],
      "text/plain": [
       "       classification                                               news  \\\n",
       "21050               1  vatican would see us paris deal exit as slap i...   \n",
       "22340               1  key democrat cites profound doubt about intell...   \n",
       "2075                0  ivanka trump just actually became our new firs...   \n",
       "27408               1  us capitol replacing flag display over confede...   \n",
       "30584               1  spd leader promises to push germany to embrace...   \n",
       "\n",
       "                                                  tokens  \\\n",
       "21050  [vatican, would, see, us, paris, deal, exit, a...   \n",
       "22340  [key, democrat, cites, profound, doubt, about,...   \n",
       "2075   [ivanka, trump, just, actually, became, our, n...   \n",
       "27408  [us, capitol, replacing, flag, display, over, ...   \n",
       "30584  [spd, leader, promises, to, push, germany, to,...   \n",
       "\n",
       "                                                pos_tags  \n",
       "21050  [(vatican, JJ), (would, MD), (see, VB), (us, P...  \n",
       "22340  [(key, JJ), (democrat, NN), (cites, NNS), (pro...  \n",
       "2075   [(ivanka, JJ), (trump, NN), (just, RB), (actua...  \n",
       "27408  [(us, PRP), (capitol, VBP), (replacing, VBG), ...  \n",
       "30584  [(spd, JJ), (leader, NN), (promises, NNS), (to...  "
      ]
     },
     "execution_count": 49,
     "metadata": {},
     "output_type": "execute_result"
    }
   ],
   "source": [
    "df.sample(5)"
   ]
  },
  {
   "cell_type": "markdown",
   "metadata": {
    "id": "7sqBWc8jtZ5E"
   },
   "source": [
    "**Stemming** the Data with Porter Stemmer"
   ]
  },
  {
   "cell_type": "code",
   "execution_count": 50,
   "metadata": {
    "executionInfo": {
     "elapsed": 6,
     "status": "ok",
     "timestamp": 1737043651346,
     "user": {
      "displayName": "Tiago Santos",
      "userId": "01739492997383215152"
     },
     "user_tz": 0
    },
    "id": "nnHbSLs7sFDr"
   },
   "outputs": [],
   "source": [
    "from nltk.stem import PorterStemmer"
   ]
  },
  {
   "cell_type": "code",
   "execution_count": 51,
   "metadata": {
    "executionInfo": {
     "elapsed": 6,
     "status": "ok",
     "timestamp": 1737043651346,
     "user": {
      "displayName": "Tiago Santos",
      "userId": "01739492997383215152"
     },
     "user_tz": 0
    },
    "id": "Pom5ykR9rzq-"
   },
   "outputs": [],
   "source": [
    "ps = PorterStemmer()"
   ]
  },
  {
   "cell_type": "code",
   "execution_count": 52,
   "metadata": {
    "executionInfo": {
     "elapsed": 6177,
     "status": "ok",
     "timestamp": 1737043657517,
     "user": {
      "displayName": "Tiago Santos",
      "userId": "01739492997383215152"
     },
     "user_tz": 0
    },
    "id": "46nXeDaEso6K"
   },
   "outputs": [],
   "source": [
    "# Applying Stemmed to tokens\n",
    "df['stemmed'] = df['tokens'].apply(lambda tokens_list: [ps.stem(word) for word in tokens_list])"
   ]
  },
  {
   "cell_type": "code",
   "execution_count": 53,
   "metadata": {
    "colab": {
     "base_uri": "https://localhost:8080/",
     "height": 206
    },
    "executionInfo": {
     "elapsed": 15,
     "status": "ok",
     "timestamp": 1737043657518,
     "user": {
      "displayName": "Tiago Santos",
      "userId": "01739492997383215152"
     },
     "user_tz": 0
    },
    "id": "SyrqD53ysJau",
    "outputId": "47d17fed-8a06-4212-edab-f2042ea69272"
   },
   "outputs": [
    {
     "data": {
      "text/html": [
       "<div>\n",
       "<style scoped>\n",
       "    .dataframe tbody tr th:only-of-type {\n",
       "        vertical-align: middle;\n",
       "    }\n",
       "\n",
       "    .dataframe tbody tr th {\n",
       "        vertical-align: top;\n",
       "    }\n",
       "\n",
       "    .dataframe thead th {\n",
       "        text-align: right;\n",
       "    }\n",
       "</style>\n",
       "<table border=\"1\" class=\"dataframe\">\n",
       "  <thead>\n",
       "    <tr style=\"text-align: right;\">\n",
       "      <th></th>\n",
       "      <th>classification</th>\n",
       "      <th>news</th>\n",
       "      <th>tokens</th>\n",
       "      <th>pos_tags</th>\n",
       "      <th>stemmed</th>\n",
       "    </tr>\n",
       "  </thead>\n",
       "  <tbody>\n",
       "    <tr>\n",
       "      <th>13947</th>\n",
       "      <td>0</td>\n",
       "      <td>obamas epa gestapo to skip hearing on co mine</td>\n",
       "      <td>[obamas, epa, gestapo, to, skip, hearing, on, ...</td>\n",
       "      <td>[(obamas, RB), (epa, JJ), (gestapo, NN), (to, ...</td>\n",
       "      <td>[obama, epa, gestapo, to, skip, hear, on, co, ...</td>\n",
       "    </tr>\n",
       "    <tr>\n",
       "      <th>32242</th>\n",
       "      <td>1</td>\n",
       "      <td>china foreign minister to visit myanmar amid r...</td>\n",
       "      <td>[china, foreign, minister, to, visit, myanmar,...</td>\n",
       "      <td>[(china, NNS), (foreign, JJ), (minister, NN), ...</td>\n",
       "      <td>[china, foreign, minist, to, visit, myanmar, a...</td>\n",
       "    </tr>\n",
       "    <tr>\n",
       "      <th>9832</th>\n",
       "      <td>0</td>\n",
       "      <td>look who the view hired to replace only conser...</td>\n",
       "      <td>[look, who, the, view, hired, to, replace, onl...</td>\n",
       "      <td>[(look, NN), (who, WP), (the, DT), (view, NN),...</td>\n",
       "      <td>[look, who, the, view, hire, to, replac, onli,...</td>\n",
       "    </tr>\n",
       "    <tr>\n",
       "      <th>17856</th>\n",
       "      <td>1</td>\n",
       "      <td>us appeals court hears arguments on trump trav...</td>\n",
       "      <td>[us, appeals, court, hears, arguments, on, tru...</td>\n",
       "      <td>[(us, PRP), (appeals, NNS), (court, NN), (hear...</td>\n",
       "      <td>[us, appeal, court, hear, argument, on, trump,...</td>\n",
       "    </tr>\n",
       "    <tr>\n",
       "      <th>11913</th>\n",
       "      <td>0</td>\n",
       "      <td>prince charles uses christmas radio broadcast ...</td>\n",
       "      <td>[prince, charles, uses, christmas, radio, broa...</td>\n",
       "      <td>[(prince, NN), (charles, NNS), (uses, VBZ), (c...</td>\n",
       "      <td>[princ, charl, use, christma, radio, broadcast...</td>\n",
       "    </tr>\n",
       "  </tbody>\n",
       "</table>\n",
       "</div>"
      ],
      "text/plain": [
       "       classification                                               news  \\\n",
       "13947               0      obamas epa gestapo to skip hearing on co mine   \n",
       "32242               1  china foreign minister to visit myanmar amid r...   \n",
       "9832                0  look who the view hired to replace only conser...   \n",
       "17856               1  us appeals court hears arguments on trump trav...   \n",
       "11913               0  prince charles uses christmas radio broadcast ...   \n",
       "\n",
       "                                                  tokens  \\\n",
       "13947  [obamas, epa, gestapo, to, skip, hearing, on, ...   \n",
       "32242  [china, foreign, minister, to, visit, myanmar,...   \n",
       "9832   [look, who, the, view, hired, to, replace, onl...   \n",
       "17856  [us, appeals, court, hears, arguments, on, tru...   \n",
       "11913  [prince, charles, uses, christmas, radio, broa...   \n",
       "\n",
       "                                                pos_tags  \\\n",
       "13947  [(obamas, RB), (epa, JJ), (gestapo, NN), (to, ...   \n",
       "32242  [(china, NNS), (foreign, JJ), (minister, NN), ...   \n",
       "9832   [(look, NN), (who, WP), (the, DT), (view, NN),...   \n",
       "17856  [(us, PRP), (appeals, NNS), (court, NN), (hear...   \n",
       "11913  [(prince, NN), (charles, NNS), (uses, VBZ), (c...   \n",
       "\n",
       "                                                 stemmed  \n",
       "13947  [obama, epa, gestapo, to, skip, hear, on, co, ...  \n",
       "32242  [china, foreign, minist, to, visit, myanmar, a...  \n",
       "9832   [look, who, the, view, hire, to, replac, onli,...  \n",
       "17856  [us, appeal, court, hear, argument, on, trump,...  \n",
       "11913  [princ, charl, use, christma, radio, broadcast...  "
      ]
     },
     "execution_count": 53,
     "metadata": {},
     "output_type": "execute_result"
    }
   ],
   "source": [
    "df.sample(5)"
   ]
  },
  {
   "cell_type": "markdown",
   "metadata": {
    "id": "ni3RROR0tsWO"
   },
   "source": [
    "**Lemmatization** the Data with wordnet"
   ]
  },
  {
   "cell_type": "code",
   "execution_count": 54,
   "metadata": {
    "colab": {
     "base_uri": "https://localhost:8080/"
    },
    "executionInfo": {
     "elapsed": 12,
     "status": "ok",
     "timestamp": 1737043657518,
     "user": {
      "displayName": "Tiago Santos",
      "userId": "01739492997383215152"
     },
     "user_tz": 0
    },
    "id": "oRYIdmKXsJW3",
    "outputId": "3bd278cd-9986-4208-f0bd-1cf15f2bdef9"
   },
   "outputs": [
    {
     "name": "stderr",
     "output_type": "stream",
     "text": [
      "[nltk_data] Downloading package wordnet to\n",
      "[nltk_data]     C:\\Users\\ggsan\\AppData\\Roaming\\nltk_data...\n",
      "[nltk_data]   Package wordnet is already up-to-date!\n"
     ]
    },
    {
     "data": {
      "text/plain": [
       "True"
      ]
     },
     "execution_count": 54,
     "metadata": {},
     "output_type": "execute_result"
    }
   ],
   "source": [
    "nltk.download('wordnet')"
   ]
  },
  {
   "cell_type": "code",
   "execution_count": 55,
   "metadata": {
    "executionInfo": {
     "elapsed": 9,
     "status": "ok",
     "timestamp": 1737043657518,
     "user": {
      "displayName": "Tiago Santos",
      "userId": "01739492997383215152"
     },
     "user_tz": 0
    },
    "id": "4MnMhQK_sJTS"
   },
   "outputs": [],
   "source": [
    "from nltk.stem import WordNetLemmatizer # lemmatize\n",
    "from nltk.corpus import wordnet # wordnet is a lexical database for the English language"
   ]
  },
  {
   "cell_type": "code",
   "execution_count": 56,
   "metadata": {
    "executionInfo": {
     "elapsed": 8,
     "status": "ok",
     "timestamp": 1737043657518,
     "user": {
      "displayName": "Tiago Santos",
      "userId": "01739492997383215152"
     },
     "user_tz": 0
    },
    "id": "J30B_OGisJQI"
   },
   "outputs": [],
   "source": [
    "lemmatizer = WordNetLemmatizer()"
   ]
  },
  {
   "cell_type": "code",
   "execution_count": 57,
   "metadata": {
    "executionInfo": {
     "elapsed": 35055,
     "status": "ok",
     "timestamp": 1737043692565,
     "user": {
      "displayName": "Tiago Santos",
      "userId": "01739492997383215152"
     },
     "user_tz": 0
    },
    "id": "KdZWRnuru802"
   },
   "outputs": [],
   "source": [
    "# Applying lemmatiz to Stemmed\n",
    "df['lemmatized'] = df['stemmed'].apply(lambda tokens_list: [lemmatizer.lemmatize(word, pos=map_pos_tag(word)) for word in tokens_list])"
   ]
  },
  {
   "cell_type": "code",
   "execution_count": 58,
   "metadata": {
    "colab": {
     "base_uri": "https://localhost:8080/",
     "height": 293
    },
    "executionInfo": {
     "elapsed": 23,
     "status": "ok",
     "timestamp": 1737043692567,
     "user": {
      "displayName": "Tiago Santos",
      "userId": "01739492997383215152"
     },
     "user_tz": 0
    },
    "id": "4EF6zBxfsJF9",
    "outputId": "2e30fd83-4728-46f8-85e1-3635ad5eccd8"
   },
   "outputs": [
    {
     "data": {
      "text/html": [
       "<div>\n",
       "<style scoped>\n",
       "    .dataframe tbody tr th:only-of-type {\n",
       "        vertical-align: middle;\n",
       "    }\n",
       "\n",
       "    .dataframe tbody tr th {\n",
       "        vertical-align: top;\n",
       "    }\n",
       "\n",
       "    .dataframe thead th {\n",
       "        text-align: right;\n",
       "    }\n",
       "</style>\n",
       "<table border=\"1\" class=\"dataframe\">\n",
       "  <thead>\n",
       "    <tr style=\"text-align: right;\">\n",
       "      <th></th>\n",
       "      <th>classification</th>\n",
       "      <th>news</th>\n",
       "      <th>tokens</th>\n",
       "      <th>pos_tags</th>\n",
       "      <th>stemmed</th>\n",
       "      <th>lemmatized</th>\n",
       "    </tr>\n",
       "  </thead>\n",
       "  <tbody>\n",
       "    <tr>\n",
       "      <th>1560</th>\n",
       "      <td>0</td>\n",
       "      <td>trump hired flynn after obama specifically war...</td>\n",
       "      <td>[trump, hired, flynn, after, obama, specifical...</td>\n",
       "      <td>[(trump, NN), (hired, VBD), (flynn, NN), (afte...</td>\n",
       "      <td>[trump, hire, flynn, after, obama, specif, war...</td>\n",
       "      <td>[trump, hire, flynn, after, obama, specif, war...</td>\n",
       "    </tr>\n",
       "    <tr>\n",
       "      <th>2429</th>\n",
       "      <td>0</td>\n",
       "      <td>swedish police appalled at level of deception ...</td>\n",
       "      <td>[swedish, police, appalled, at, level, of, dec...</td>\n",
       "      <td>[(swedish, JJ), (police, NN), (appalled, VBD),...</td>\n",
       "      <td>[swedish, polic, appal, at, level, of, decept,...</td>\n",
       "      <td>[swedish, polic, appal, at, level, of, decept,...</td>\n",
       "    </tr>\n",
       "    <tr>\n",
       "      <th>21969</th>\n",
       "      <td>1</td>\n",
       "      <td>russian tv says us missile strikes on syria de...</td>\n",
       "      <td>[russian, tv, says, us, missile, strikes, on, ...</td>\n",
       "      <td>[(russian, JJ), (tv, NN), (says, VBZ), (us, PR...</td>\n",
       "      <td>[russian, tv, say, us, missil, strike, on, syr...</td>\n",
       "      <td>[russian, tv, say, u, missil, strike, on, syri...</td>\n",
       "    </tr>\n",
       "    <tr>\n",
       "      <th>9389</th>\n",
       "      <td>0</td>\n",
       "      <td>democrat senator al franken thought it would b...</td>\n",
       "      <td>[democrat, senator, al, franken, thought, it, ...</td>\n",
       "      <td>[(democrat, NNS), (senator, VBP), (al, IN), (f...</td>\n",
       "      <td>[democrat, senat, al, franken, thought, it, wo...</td>\n",
       "      <td>[democrat, senat, al, franken, thought, it, wo...</td>\n",
       "    </tr>\n",
       "    <tr>\n",
       "      <th>30775</th>\n",
       "      <td>1</td>\n",
       "      <td>saleh was killed in rpg gun attack on his car ...</td>\n",
       "      <td>[saleh, was, killed, in, rpg, gun, attack, on,...</td>\n",
       "      <td>[(saleh, NN), (was, VBD), (killed, VBN), (in, ...</td>\n",
       "      <td>[saleh, wa, kill, in, rpg, gun, attack, on, hi...</td>\n",
       "      <td>[saleh, wa, kill, in, rpg, gun, attack, on, hi...</td>\n",
       "    </tr>\n",
       "  </tbody>\n",
       "</table>\n",
       "</div>"
      ],
      "text/plain": [
       "       classification                                               news  \\\n",
       "1560                0  trump hired flynn after obama specifically war...   \n",
       "2429                0  swedish police appalled at level of deception ...   \n",
       "21969               1  russian tv says us missile strikes on syria de...   \n",
       "9389                0  democrat senator al franken thought it would b...   \n",
       "30775               1  saleh was killed in rpg gun attack on his car ...   \n",
       "\n",
       "                                                  tokens  \\\n",
       "1560   [trump, hired, flynn, after, obama, specifical...   \n",
       "2429   [swedish, police, appalled, at, level, of, dec...   \n",
       "21969  [russian, tv, says, us, missile, strikes, on, ...   \n",
       "9389   [democrat, senator, al, franken, thought, it, ...   \n",
       "30775  [saleh, was, killed, in, rpg, gun, attack, on,...   \n",
       "\n",
       "                                                pos_tags  \\\n",
       "1560   [(trump, NN), (hired, VBD), (flynn, NN), (afte...   \n",
       "2429   [(swedish, JJ), (police, NN), (appalled, VBD),...   \n",
       "21969  [(russian, JJ), (tv, NN), (says, VBZ), (us, PR...   \n",
       "9389   [(democrat, NNS), (senator, VBP), (al, IN), (f...   \n",
       "30775  [(saleh, NN), (was, VBD), (killed, VBN), (in, ...   \n",
       "\n",
       "                                                 stemmed  \\\n",
       "1560   [trump, hire, flynn, after, obama, specif, war...   \n",
       "2429   [swedish, polic, appal, at, level, of, decept,...   \n",
       "21969  [russian, tv, say, us, missil, strike, on, syr...   \n",
       "9389   [democrat, senat, al, franken, thought, it, wo...   \n",
       "30775  [saleh, wa, kill, in, rpg, gun, attack, on, hi...   \n",
       "\n",
       "                                              lemmatized  \n",
       "1560   [trump, hire, flynn, after, obama, specif, war...  \n",
       "2429   [swedish, polic, appal, at, level, of, decept,...  \n",
       "21969  [russian, tv, say, u, missil, strike, on, syri...  \n",
       "9389   [democrat, senat, al, franken, thought, it, wo...  \n",
       "30775  [saleh, wa, kill, in, rpg, gun, attack, on, hi...  "
      ]
     },
     "execution_count": 58,
     "metadata": {},
     "output_type": "execute_result"
    }
   ],
   "source": [
    "df.sample(5)"
   ]
  },
  {
   "cell_type": "markdown",
   "metadata": {
    "id": "iFMW_pxnzzXw"
   },
   "source": [
    "**StopWord Removal**"
   ]
  },
  {
   "cell_type": "code",
   "execution_count": 59,
   "metadata": {
    "executionInfo": {
     "elapsed": 21,
     "status": "ok",
     "timestamp": 1737043692567,
     "user": {
      "displayName": "Tiago Santos",
      "userId": "01739492997383215152"
     },
     "user_tz": 0
    },
    "id": "YrDQgOensJCh"
   },
   "outputs": [],
   "source": [
    "from nltk.corpus import stopwords"
   ]
  },
  {
   "cell_type": "code",
   "execution_count": 60,
   "metadata": {
    "colab": {
     "base_uri": "https://localhost:8080/"
    },
    "executionInfo": {
     "elapsed": 20,
     "status": "ok",
     "timestamp": 1737043692567,
     "user": {
      "displayName": "Tiago Santos",
      "userId": "01739492997383215152"
     },
     "user_tz": 0
    },
    "id": "uNWkgAV-sI_L",
    "outputId": "5636c480-1423-4d4d-e242-13680fa58e15"
   },
   "outputs": [
    {
     "name": "stderr",
     "output_type": "stream",
     "text": [
      "[nltk_data] Downloading package stopwords to\n",
      "[nltk_data]     C:\\Users\\ggsan\\AppData\\Roaming\\nltk_data...\n",
      "[nltk_data]   Package stopwords is already up-to-date!\n"
     ]
    },
    {
     "data": {
      "text/plain": [
       "True"
      ]
     },
     "execution_count": 60,
     "metadata": {},
     "output_type": "execute_result"
    }
   ],
   "source": [
    "nltk.download('stopwords')"
   ]
  },
  {
   "cell_type": "code",
   "execution_count": 61,
   "metadata": {
    "executionInfo": {
     "elapsed": 36891,
     "status": "ok",
     "timestamp": 1737043869298,
     "user": {
      "displayName": "Tiago Santos",
      "userId": "01739492997383215152"
     },
     "user_tz": 0
    },
    "id": "ZvBj9gH3sI71"
   },
   "outputs": [],
   "source": [
    "df['news_w_out_sw'] = df['lemmatized'].apply(lambda tokens_list: [word for word in tokens_list if word not in stopwords.words('english')])"
   ]
  },
  {
   "cell_type": "code",
   "execution_count": 62,
   "metadata": {
    "colab": {
     "base_uri": "https://localhost:8080/",
     "height": 196
    },
    "executionInfo": {
     "elapsed": 268,
     "status": "ok",
     "timestamp": 1737043872604,
     "user": {
      "displayName": "Tiago Santos",
      "userId": "01739492997383215152"
     },
     "user_tz": 0
    },
    "id": "-6S7Ygz8sI4s",
    "outputId": "b10b10b6-8e0d-4cb6-87bb-b06ecdd2b6a5"
   },
   "outputs": [
    {
     "data": {
      "text/html": [
       "<div>\n",
       "<style scoped>\n",
       "    .dataframe tbody tr th:only-of-type {\n",
       "        vertical-align: middle;\n",
       "    }\n",
       "\n",
       "    .dataframe tbody tr th {\n",
       "        vertical-align: top;\n",
       "    }\n",
       "\n",
       "    .dataframe thead th {\n",
       "        text-align: right;\n",
       "    }\n",
       "</style>\n",
       "<table border=\"1\" class=\"dataframe\">\n",
       "  <thead>\n",
       "    <tr style=\"text-align: right;\">\n",
       "      <th></th>\n",
       "      <th>classification</th>\n",
       "      <th>news</th>\n",
       "      <th>tokens</th>\n",
       "      <th>pos_tags</th>\n",
       "      <th>stemmed</th>\n",
       "      <th>lemmatized</th>\n",
       "      <th>news_w_out_sw</th>\n",
       "    </tr>\n",
       "  </thead>\n",
       "  <tbody>\n",
       "    <tr>\n",
       "      <th>13536</th>\n",
       "      <td>0</td>\n",
       "      <td>btch of benghazi wins democrat nomination im e...</td>\n",
       "      <td>[btch, of, benghazi, wins, democrat, nominatio...</td>\n",
       "      <td>[(btch, NN), (of, IN), (benghazi, NN), (wins, ...</td>\n",
       "      <td>[btch, of, benghazi, win, democrat, nomin, im,...</td>\n",
       "      <td>[btch, of, benghazi, win, democrat, nomin, im,...</td>\n",
       "      <td>[btch, benghazi, win, democrat, nomin, im, enc...</td>\n",
       "    </tr>\n",
       "    <tr>\n",
       "      <th>30250</th>\n",
       "      <td>1</td>\n",
       "      <td>mexico rightleft coalition presents bid to run...</td>\n",
       "      <td>[mexico, rightleft, coalition, presents, bid, ...</td>\n",
       "      <td>[(mexico, NN), (rightleft, NN), (coalition, NN...</td>\n",
       "      <td>[mexico, rightleft, coalit, present, bid, to, ...</td>\n",
       "      <td>[mexico, rightleft, coalit, present, bid, to, ...</td>\n",
       "      <td>[mexico, rightleft, coalit, present, bid, run,...</td>\n",
       "    </tr>\n",
       "    <tr>\n",
       "      <th>13831</th>\n",
       "      <td>0</td>\n",
       "      <td>trumps got em on the run rhode island supporte...</td>\n",
       "      <td>[trumps, got, em, on, the, run, rhode, island,...</td>\n",
       "      <td>[(trumps, NNS), (got, VBD), (em, RB), (on, IN)...</td>\n",
       "      <td>[trump, got, em, on, the, run, rhode, island, ...</td>\n",
       "      <td>[trump, get, em, on, the, run, rhode, island, ...</td>\n",
       "      <td>[trump, get, em, run, rhode, island, support, ...</td>\n",
       "    </tr>\n",
       "  </tbody>\n",
       "</table>\n",
       "</div>"
      ],
      "text/plain": [
       "       classification                                               news  \\\n",
       "13536               0  btch of benghazi wins democrat nomination im e...   \n",
       "30250               1  mexico rightleft coalition presents bid to run...   \n",
       "13831               0  trumps got em on the run rhode island supporte...   \n",
       "\n",
       "                                                  tokens  \\\n",
       "13536  [btch, of, benghazi, wins, democrat, nominatio...   \n",
       "30250  [mexico, rightleft, coalition, presents, bid, ...   \n",
       "13831  [trumps, got, em, on, the, run, rhode, island,...   \n",
       "\n",
       "                                                pos_tags  \\\n",
       "13536  [(btch, NN), (of, IN), (benghazi, NN), (wins, ...   \n",
       "30250  [(mexico, NN), (rightleft, NN), (coalition, NN...   \n",
       "13831  [(trumps, NNS), (got, VBD), (em, RB), (on, IN)...   \n",
       "\n",
       "                                                 stemmed  \\\n",
       "13536  [btch, of, benghazi, win, democrat, nomin, im,...   \n",
       "30250  [mexico, rightleft, coalit, present, bid, to, ...   \n",
       "13831  [trump, got, em, on, the, run, rhode, island, ...   \n",
       "\n",
       "                                              lemmatized  \\\n",
       "13536  [btch, of, benghazi, win, democrat, nomin, im,...   \n",
       "30250  [mexico, rightleft, coalit, present, bid, to, ...   \n",
       "13831  [trump, get, em, on, the, run, rhode, island, ...   \n",
       "\n",
       "                                           news_w_out_sw  \n",
       "13536  [btch, benghazi, win, democrat, nomin, im, enc...  \n",
       "30250  [mexico, rightleft, coalit, present, bid, run,...  \n",
       "13831  [trump, get, em, run, rhode, island, support, ...  "
      ]
     },
     "execution_count": 62,
     "metadata": {},
     "output_type": "execute_result"
    }
   ],
   "source": [
    "df.sample(3)"
   ]
  },
  {
   "cell_type": "markdown",
   "metadata": {},
   "source": [
    "**Spliting the data**"
   ]
  },
  {
   "cell_type": "markdown",
   "metadata": {},
   "source": [
    "df_class\n"
   ]
  },
  {
   "cell_type": "code",
   "execution_count": 63,
   "metadata": {},
   "outputs": [
    {
     "data": {
      "text/plain": [
       "classification\n",
       "0    17571\n",
       "1    16580\n",
       "Name: count, dtype: int64"
      ]
     },
     "execution_count": 63,
     "metadata": {},
     "output_type": "execute_result"
    }
   ],
   "source": [
    "df_class"
   ]
  },
  {
   "cell_type": "code",
   "execution_count": 64,
   "metadata": {},
   "outputs": [
    {
     "data": {
      "text/plain": [
       "classification\n",
       "0    0.514509\n",
       "1    0.485491\n",
       "Name: count, dtype: float64"
      ]
     },
     "execution_count": 64,
     "metadata": {},
     "output_type": "execute_result"
    }
   ],
   "source": [
    "frequency_class"
   ]
  },
  {
   "cell_type": "code",
   "execution_count": 65,
   "metadata": {},
   "outputs": [
    {
     "name": "stdout",
     "output_type": "stream",
     "text": [
      "<class 'pandas.core.frame.DataFrame'>\n",
      "RangeIndex: 34151 entries, 0 to 34150\n",
      "Data columns (total 7 columns):\n",
      " #   Column          Non-Null Count  Dtype \n",
      "---  ------          --------------  ----- \n",
      " 0   classification  34151 non-null  int64 \n",
      " 1   news            34151 non-null  object\n",
      " 2   tokens          34151 non-null  object\n",
      " 3   pos_tags        34151 non-null  object\n",
      " 4   stemmed         34151 non-null  object\n",
      " 5   lemmatized      34151 non-null  object\n",
      " 6   news_w_out_sw   34151 non-null  object\n",
      "dtypes: int64(1), object(6)\n",
      "memory usage: 1.8+ MB\n"
     ]
    }
   ],
   "source": [
    "df.info()"
   ]
  },
  {
   "cell_type": "code",
   "execution_count": 66,
   "metadata": {},
   "outputs": [
    {
     "data": {
      "text/plain": [
       "classification    0\n",
       "news              0\n",
       "tokens            0\n",
       "pos_tags          0\n",
       "stemmed           0\n",
       "lemmatized        0\n",
       "news_w_out_sw     0\n",
       "dtype: int64"
      ]
     },
     "execution_count": 66,
     "metadata": {},
     "output_type": "execute_result"
    }
   ],
   "source": [
    "df.isna().sum()"
   ]
  },
  {
   "cell_type": "code",
   "execution_count": 67,
   "metadata": {},
   "outputs": [],
   "source": [
    "# 34151 * 0.8 #  result = 27320.800000000003 *"
   ]
  },
  {
   "cell_type": "code",
   "execution_count": 68,
   "metadata": {},
   "outputs": [],
   "source": [
    "# train_data = df.sample(1000)\n",
    "# test_data = df.sample(1000)"
   ]
  },
  {
   "cell_type": "markdown",
   "metadata": {
    "id": "4PtRWPeF4d62"
   },
   "source": [
    "***4*** . **Feature extraction**"
   ]
  },
  {
   "cell_type": "markdown",
   "metadata": {
    "id": "g7KdqJai5Ru-"
   },
   "source": [
    "**Bag-of words** vectorization"
   ]
  },
  {
   "cell_type": "code",
   "execution_count": 69,
   "metadata": {
    "executionInfo": {
     "elapsed": 222,
     "status": "ok",
     "timestamp": 1737044176425,
     "user": {
      "displayName": "Tiago Santos",
      "userId": "01739492997383215152"
     },
     "user_tz": 0
    },
    "id": "t-kScL4rsIy1"
   },
   "outputs": [],
   "source": [
    "from sklearn.feature_extraction.text import CountVectorizer\n",
    "\n",
    "# Join tokens back into strings\n",
    "df['news_w_out_sw_joined'] = df['news_w_out_sw'].apply(lambda tokens: ' '.join(tokens))\n",
    "\n",
    "# Initialize CountVectorizer\n",
    "vectorizer = CountVectorizer()\n",
    "\n",
    "# Fit and transform text data\n",
    "X = vectorizer.fit_transform(df['news_w_out_sw_joined'])"
   ]
  },
  {
   "cell_type": "code",
   "execution_count": 70,
   "metadata": {},
   "outputs": [],
   "source": [
    "from sklearn.feature_extraction.text import TfidfVectorizer\n",
    "\n",
    "# Initialize TfidfVectorizer\n",
    "tfidf = TfidfVectorizer()\n",
    "\n",
    "# Fit and transform text data\n",
    "X = tfidf.fit_transform(df['news_w_out_sw_joined'])\n",
    "\n"
   ]
  },
  {
   "cell_type": "markdown",
   "metadata": {},
   "source": [
    "***5*** . **Model**"
   ]
  },
  {
   "cell_type": "code",
   "execution_count": 71,
   "metadata": {
    "executionInfo": {
     "elapsed": 5,
     "status": "aborted",
     "timestamp": 1737043692785,
     "user": {
      "displayName": "Tiago Santos",
      "userId": "01739492997383215152"
     },
     "user_tz": 0
    },
    "id": "2WiqsM400ALS"
   },
   "outputs": [
    {
     "name": "stdout",
     "output_type": "stream",
     "text": [
      "Train data size: 27320\n",
      "Test data size: 6831\n"
     ]
    }
   ],
   "source": [
    "from sklearn.model_selection import train_test_split\n",
    "\n",
    "# train test split\n",
    "train_data, test_data = train_test_split(df, test_size=0.2, random_state=42)\n",
    "\n",
    "# Check the sizes of the splits\n",
    "print(f\"Train data size: {len(train_data)}\")\n",
    "print(f\"Test data size: {len(test_data)}\")"
   ]
  },
  {
   "cell_type": "code",
   "execution_count": 72,
   "metadata": {
    "executionInfo": {
     "elapsed": 4,
     "status": "aborted",
     "timestamp": 1737043692785,
     "user": {
      "displayName": "Tiago Santos",
      "userId": "01739492997383215152"
     },
     "user_tz": 0
    },
    "id": "9YGp28uQsIpe"
   },
   "outputs": [
    {
     "name": "stdout",
     "output_type": "stream",
     "text": [
      "Training data class\n"
     ]
    },
    {
     "data": {
      "text/plain": [
       "classification\n",
       "0    14054\n",
       "1    13266\n",
       "Name: count, dtype: int64"
      ]
     },
     "execution_count": 72,
     "metadata": {},
     "output_type": "execute_result"
    }
   ],
   "source": [
    "# Ensure the column names are standardized\n",
    "clean_data(train_data)\n",
    "\n",
    "# Rename the columns if necessary\n",
    "train_data.rename(columns={'0': 'classification', '1': 'news_w_out_sw_joined'}, inplace=True)\n",
    "\n",
    "# Now access the 'classification' column\n",
    "print(f\"Training data class\")\n",
    "train_data[\"classification\"].value_counts()"
   ]
  },
  {
   "cell_type": "code",
   "execution_count": 73,
   "metadata": {},
   "outputs": [
    {
     "name": "stdout",
     "output_type": "stream",
     "text": [
      "Test data class\n"
     ]
    },
    {
     "data": {
      "text/plain": [
       "classification\n",
       "0    3517\n",
       "1    3314\n",
       "Name: count, dtype: int64"
      ]
     },
     "execution_count": 73,
     "metadata": {},
     "output_type": "execute_result"
    }
   ],
   "source": [
    "# Ensure the column names are standardized\n",
    "clean_data(test_data)\n",
    "\n",
    "# Select only the relevant columns\n",
    "test_data = test_data[['classification', 'news_w_out_sw_joined']]\n",
    "\n",
    "# Now access the 'classification' column\n",
    "print(f\"Test data class\")\n",
    "test_data[\"classification\"].value_counts()"
   ]
  },
  {
   "cell_type": "code",
   "execution_count": 74,
   "metadata": {},
   "outputs": [],
   "source": [
    "from sklearn.feature_extraction.text import TfidfVectorizer\n",
    "\n",
    "# Define X_train and X_test\n",
    "X_train = train_data['news_w_out_sw_joined']\n",
    "X_test = test_data['news_w_out_sw_joined']\n",
    "\n",
    "# Initialize the vectorizer\n",
    "vectorizer = TfidfVectorizer(max_features=5000)\n",
    "\n",
    "# Transform the text data\n",
    "X_train_vectorized = vectorizer.fit_transform(X_train)\n",
    "X_test_vectorized = vectorizer.transform(X_test)\n"
   ]
  },
  {
   "cell_type": "code",
   "execution_count": 75,
   "metadata": {},
   "outputs": [],
   "source": [
    "from sklearn.ensemble import RandomForestClassifier\n",
    "from sklearn.metrics import classification_report, accuracy_score\n",
    "\n",
    "# Define y_train and y_test\n",
    "y_train = train_data['classification']\n",
    "y_test = test_data['classification']\n",
    "\n",
    "# Initialize and train the classifier\n",
    "classifier = RandomForestClassifier()\n",
    "classifier.fit(X_train_vectorized, y_train)\n",
    "\n",
    "# Make predictions\n",
    "y_pred = classifier.predict(X_test_vectorized)\n"
   ]
  },
  {
   "cell_type": "code",
   "execution_count": 76,
   "metadata": {},
   "outputs": [
    {
     "name": "stdout",
     "output_type": "stream",
     "text": [
      "Accuracy: 0.8997218562435954\n",
      "\n",
      "Classification Report:\n",
      "               precision    recall  f1-score   support\n",
      "\n",
      "           0       0.90      0.91      0.90      3517\n",
      "           1       0.90      0.89      0.90      3314\n",
      "\n",
      "    accuracy                           0.90      6831\n",
      "   macro avg       0.90      0.90      0.90      6831\n",
      "weighted avg       0.90      0.90      0.90      6831\n",
      "\n"
     ]
    }
   ],
   "source": [
    "# Evaluate the model\n",
    "print(\"Accuracy:\", accuracy_score(y_test, y_pred))\n",
    "print(\"\\nClassification Report:\\n\", classification_report(y_test, y_pred))\n"
   ]
  },
  {
   "cell_type": "code",
   "execution_count": 98,
   "metadata": {},
   "outputs": [
    {
     "data": {
      "image/png": "[encoded data removed]",
      "text/plain": [
       "<Figure size 600x400 with 2 Axes>"
      ]
     },
     "metadata": {},
     "output_type": "display_data"
    }
   ],
   "source": [
    "from sklearn.metrics import confusion_matrix\n",
    "import matplotlib.pyplot as plt\n",
    "import seaborn as sns\n",
    "\n",
    "# Define class names\n",
    "class_names = ['Class 0', 'Class 1']  # Update this list based on your actual class names\n",
    "\n",
    "# Confusion matrix\n",
    "conf_matrix = confusion_matrix(y_test, y_pred)\n",
    "\n",
    "# Plot the confusion matrix\n",
    "plt.figure(figsize=(6, 4))\n",
    "sns.heatmap(conf_matrix, annot=True, fmt='d', cmap='Blues', xticklabels=class_names, yticklabels=class_names)\n",
    "plt.xlabel('Predicted')\n",
    "plt.ylabel('Actual')\n",
    "plt.title('Confusion Matrix')\n",
    "plt.show()"
   ]
  },
  {
   "cell_type": "markdown",
   "metadata": {},
   "source": [
    "***6*** . **try other Models**"
   ]
  },
  {
   "cell_type": "code",
   "execution_count": 77,
   "metadata": {},
   "outputs": [],
   "source": [
    "# Initialize the model\n",
    "rf = RandomForestClassifier(random_state=42)\n",
    "\n",
    "# Train the model\n",
    "rf.fit(X_train_vectorized, y_train)\n",
    "\n",
    "# Predict on the test set\n",
    "y_pred = rf.predict(X_test_vectorized)"
   ]
  },
  {
   "cell_type": "code",
   "execution_count": 78,
   "metadata": {},
   "outputs": [
    {
     "name": "stdout",
     "output_type": "stream",
     "text": [
      "Accuracy: 0.8954765041721563\n"
     ]
    }
   ],
   "source": [
    "rf = RandomForestClassifier(\n",
    "    n_estimators=200,\n",
    "    max_depth=200,\n",
    "    min_samples_split=5,\n",
    "    min_samples_leaf=1,\n",
    "    random_state=42\n",
    ")\n",
    "rf.fit(X_train_vectorized, y_train)\n",
    "y_pred = rf.predict(X_test_vectorized)\n",
    "print(f\"Accuracy: {accuracy_score(y_test, y_pred)}\")"
   ]
  },
  {
   "cell_type": "code",
   "execution_count": 80,
   "metadata": {},
   "outputs": [],
   "source": [
    "#from sklearn.model_selection import GridSearchCV\n",
    "\n",
    "# param_grid = {\n",
    "#    'n_estimators': [200, 500, 1000],\n",
    "#    'max_depth': [50, 100, 200],\n",
    "#    'min_samples_split': [2, 5, 10],\n",
    "#    'min_samples_leaf': [1, 2, 5]\n",
    "#}\n",
    "\n",
    "#grid_search = GridSearchCV(\n",
    "#    estimator=RandomForestClassifier(random_state=42),\n",
    "#    param_grid=param_grid,\n",
    "#    cv=5,\n",
    "#    scoring='accuracy',\n",
    "#    n_jobs=-1\n",
    "#)\n",
    "\n",
    "#grid_search.fit(X_train_vectorized, y_train)\n",
    "\n",
    "#print(f\"Best Parameters: {grid_search.best_params_}\")\n",
    "#print(f\"Best Accuracy: {grid_search.best_score_}\")"
   ]
  },
  {
   "cell_type": "code",
   "execution_count": 81,
   "metadata": {},
   "outputs": [
    {
     "name": "stdout",
     "output_type": "stream",
     "text": [
      "XGBoost Accuracy: 0.8846435368174499\n"
     ]
    }
   ],
   "source": [
    "# Ensure xgboost is installed\n",
    "\n",
    "from xgboost import XGBClassifier\n",
    "\n",
    "xgb = XGBClassifier(random_state=42)\n",
    "xgb.fit(X_train_vectorized, y_train)\n",
    "y_pred = xgb.predict(X_test_vectorized)\n",
    "\n",
    "print(f\"XGBoost Accuracy: {accuracy_score(y_test, y_pred)}\")"
   ]
  },
  {
   "cell_type": "code",
   "execution_count": 82,
   "metadata": {},
   "outputs": [
    {
     "name": "stdout",
     "output_type": "stream",
     "text": [
      "Gradient Boosting Accuracy: 0.8230127360562143\n",
      "\n",
      "Classification Report:\n",
      "               precision    recall  f1-score   support\n",
      "\n",
      "           0       0.91      0.73      0.81      3517\n",
      "           1       0.76      0.93      0.84      3314\n",
      "\n",
      "    accuracy                           0.82      6831\n",
      "   macro avg       0.84      0.83      0.82      6831\n",
      "weighted avg       0.84      0.82      0.82      6831\n",
      "\n"
     ]
    }
   ],
   "source": [
    "from sklearn.ensemble import GradientBoostingClassifier\n",
    "from sklearn.metrics import classification_report, accuracy_score\n",
    "\n",
    "# Initialize and train the Gradient Boosting classifier\n",
    "gb = GradientBoostingClassifier(random_state=42)\n",
    "gb.fit(X_train_vectorized, y_train)\n",
    "\n",
    "# Make predictions\n",
    "y_pred_gb = gb.predict(X_test_vectorized)\n",
    "\n",
    "# Evaluate the model\n",
    "print(\"Gradient Boosting Accuracy:\", accuracy_score(y_test, y_pred_gb))\n",
    "print(\"\\nClassification Report:\\n\", classification_report(y_test, y_pred_gb))"
   ]
  },
  {
   "cell_type": "code",
   "execution_count": 84,
   "metadata": {},
   "outputs": [],
   "source": [
    "#pip install streamlit"
   ]
  },
  {
   "cell_type": "code",
   "execution_count": 85,
   "metadata": {},
   "outputs": [
    {
     "data": {
      "text/plain": [
       "['vectorizer.pkl']"
      ]
     },
     "execution_count": 85,
     "metadata": {},
     "output_type": "execute_result"
    }
   ],
   "source": [
    "import joblib\n",
    "\n",
    "# Save the model and vectorizer\n",
    "joblib.dump(classifier, 'model.pkl')\n",
    "joblib.dump(vectorizer, 'vectorizer.pkl')\n"
   ]
  },
  {
   "cell_type": "code",
   "execution_count": 86,
   "metadata": {},
   "outputs": [
    {
     "name": "stderr",
     "output_type": "stream",
     "text": [
      "2025-01-21 16:49:33.907 WARNING streamlit.runtime.scriptrunner_utils.script_run_context: Thread 'MainThread': missing ScriptRunContext! This warning can be ignored when running in bare mode.\n",
      "2025-01-21 16:49:34.022 \n",
      "  \u001b[33m\u001b[1mWarning:\u001b[0m to view this Streamlit app on a browser, run it with the following\n",
      "  command:\n",
      "\n",
      "    streamlit run c:\\Users\\ggsan\\miniconda3\\envs\\IronHack\\Lib\\site-packages\\ipykernel_launcher.py [ARGUMENTS]\n",
      "2025-01-21 16:49:34.023 Thread 'MainThread': missing ScriptRunContext! This warning can be ignored when running in bare mode.\n",
      "2025-01-21 16:49:34.023 Thread 'MainThread': missing ScriptRunContext! This warning can be ignored when running in bare mode.\n",
      "2025-01-21 16:49:34.024 Thread 'MainThread': missing ScriptRunContext! This warning can be ignored when running in bare mode.\n",
      "2025-01-21 16:49:34.024 Thread 'MainThread': missing ScriptRunContext! This warning can be ignored when running in bare mode.\n",
      "2025-01-21 16:49:34.025 Thread 'MainThread': missing ScriptRunContext! This warning can be ignored when running in bare mode.\n",
      "2025-01-21 16:49:34.025 Session state does not function when running a script without `streamlit run`\n",
      "2025-01-21 16:49:34.027 Thread 'MainThread': missing ScriptRunContext! This warning can be ignored when running in bare mode.\n",
      "2025-01-21 16:49:34.027 Thread 'MainThread': missing ScriptRunContext! This warning can be ignored when running in bare mode.\n",
      "2025-01-21 16:49:34.028 Thread 'MainThread': missing ScriptRunContext! This warning can be ignored when running in bare mode.\n",
      "2025-01-21 16:49:34.028 Thread 'MainThread': missing ScriptRunContext! This warning can be ignored when running in bare mode.\n",
      "2025-01-21 16:49:34.028 Thread 'MainThread': missing ScriptRunContext! This warning can be ignored when running in bare mode.\n",
      "2025-01-21 16:49:34.029 Thread 'MainThread': missing ScriptRunContext! This warning can be ignored when running in bare mode.\n",
      "2025-01-21 16:49:34.029 Thread 'MainThread': missing ScriptRunContext! This warning can be ignored when running in bare mode.\n"
     ]
    },
    {
     "data": {
      "text/plain": [
       "0"
      ]
     },
     "execution_count": 86,
     "metadata": {},
     "output_type": "execute_result"
    }
   ],
   "source": [
    "import streamlit as st\n",
    "import joblib\n",
    "\n",
    "# Load the model and vectorizer\n",
    "model = joblib.load('model.pkl')\n",
    "vectorizer = joblib.load('vectorizer.pkl')\n",
    "\n",
    "# App title\n",
    "st.title(\"Fake News Detection App\")\n",
    "\n",
    "# Input text box\n",
    "user_input = st.text_area(\"Enter the news headline:\")\n",
    "\n",
    "# Predict button\n",
    "if st.button(\"Predict\"):\n",
    "    if user_input.strip():\n",
    "        # Preprocess and predict\n",
    "        user_input_vectorized = vectorizer.transform([user_input])\n",
    "        prediction = model.predict(user_input_vectorized)\n",
    "        prediction_label = \"Real News\" if prediction[0] == 1 else \"Fake News\"\n",
    "        st.success(f\"Prediction: {prediction_label}\")\n",
    "    else:\n",
    "        st.error(\"Please enter a news headline.\")\n",
    "0"
   ]
  }
 ],
 "metadata": {
  "colab": {
   "authorship_tag": "ABX9TyPYIwndgNfqsBlnv9Y5j0aO",
   "provenance": []
  },
  "kernelspec": {
   "display_name": "Python 3",
   "language": "python",
   "name": "python3"
  },
  "language_info": {
   "codemirror_mode": {
    "name": "ipython",
    "version": 3
   },
   "file_extension": ".py",
   "mimetype": "text/x-python",
   "name": "python",
   "nbconvert_exporter": "python",
   "pygments_lexer": "ipython3",
   "version": "3.13.1"
  }
 },
 "nbformat": 4,
 "nbformat_minor": 0
}
